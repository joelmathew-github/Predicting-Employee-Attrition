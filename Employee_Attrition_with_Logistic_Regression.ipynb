{
  "nbformat": 4,
  "nbformat_minor": 5,
  "metadata": {
    "kernelspec": {
      "display_name": "Python 3",
      "language": "python",
      "name": "python3"
    },
    "language_info": {
      "codemirror_mode": {
        "name": "ipython",
        "version": 3
      },
      "file_extension": ".py",
      "mimetype": "text/x-python",
      "name": "python",
      "nbconvert_exporter": "python",
      "pygments_lexer": "ipython3",
      "version": "3.8.8"
    },
    "colab": {
      "provenance": [],
      "collapsed_sections": [
        "d6700f10",
        "91a960cf",
        "f367a777",
        "38857a84"
      ]
    }
  },
  "cells": [
    {
      "cell_type": "markdown",
      "metadata": {
        "id": "a1af8f38"
      },
      "source": [
        "## Predicting Employee Attrition with Class Probability Estimation (Logistic Regression)\n",
        "\n",
        "### Context: \n",
        "McCurr Healthcare Consultancy is an MNC that has thousands of employees spread out across the globe. The company believes in hiring the best talent available and retaining them for as long as possible. A huge amount of resources are spent on retaining existing employees through various initiatives. The Head of People Operations wants to bring down the cost of retaining employees. For this, he proposes limiting the incentives to only those employees who are at risk of attrition. As a recently hired Data Scientist in the People Operations Department, you have been asked to identify patterns in characteristics of employees who leave the organization. Also, you have to use this information to predict if an employee is at risk of attrition. This information will be used to target them with incentives.\n",
        "\n",
        "### Objective : \n",
        "\n",
        "* To identify the different factors that drive attrition\n",
        "* To make a model to predict if an employee will attrite or not\n",
        "\n",
        "\n",
        "### Dataset :\n",
        "The data contains demographic details, work-related metrics and attrition flag.\n",
        "\n",
        "* **EmployeeNumber** - Employee Identifier\n",
        "* **Attrition** - Did the employee attrite?\n",
        "* **Age** - Age of the employee\n",
        "* **BusinessTravel** - Travel commitments for the job\n",
        "* **DailyRate** - Data description not available**\n",
        "* **Department** - Employee Department\n",
        "* **DistanceFromHome** - Distance from work to home (in km)\n",
        "* **Education** - 1-Below College, 2-College, 3-Bachelor, 4-Master,5-Doctor\n",
        "* **EducationField** - Field of Education\n",
        "* **EnvironmentSatisfaction** - 1-Low, 2-Medium, 3-High, 4-Very High\n",
        "* **Gender** - Employee's gender\n",
        "* **HourlyRate** - Data description not available**\n",
        "* **JobInvolvement** - 1-Low, 2-Medium, 3-High, 4-Very High\n",
        "* **JobLevel** - Level of job (1 to 5)\n",
        "* **JobRole** - Job Roles\n",
        "* **JobSatisfaction** - 1-Low, 2-Medium, 3-High, 4-Very High\n",
        "* **MaritalStatus** - Marital Status\n",
        "* **MonthlyIncome** - Monthly Salary\n",
        "* **MonthlyRate** - Data description not available**\n",
        "* **NumCompaniesWorked** - Number of companies worked at\n",
        "* **Over18** - Over 18 years of age?\n",
        "* **OverTime** - Overtime?\n",
        "* **PercentSalaryHike** - The percentage increase in salary last year\n",
        "* **PerformanceRating** - 1-Low, 2-Good, 3-Excellent, 4-Outstanding\n",
        "* **RelationshipSatisfaction** - 1-Low, 2-Medium, 3-High, 4-Very High\n",
        "* **StandardHours** - Standard Hours\n",
        "* **StockOptionLevel** - Stock Option Level\n",
        "* **TotalWorkingYears** - Total years worked\n",
        "* **TrainingTimesLastYear** - Number of training attended last year\n",
        "* **WorkLifeBalance** - 1-Low, 2-Good, 3-Excellent, 4-Outstanding\n",
        "* **YearsAtCompany** - Years at Company\n",
        "* **YearsInCurrentRole** - Years in the current role\n",
        "* **YearsSinceLastPromotion** - Years since the last promotion\n",
        "* **YearsWithCurrManager** - Years with the current manager\n",
        "\n",
        "** In the real world, you will not find definitions for some of your variables. It is a part of the analysis to figure out what they might mean. "
      ],
      "id": "a1af8f38"
    },
    {
      "cell_type": "markdown",
      "metadata": {
        "id": "d6700f10"
      },
      "source": [
        "### Import the necessary libraries"
      ],
      "id": "d6700f10"
    },
    {
      "cell_type": "code",
      "metadata": {
        "id": "d60f33c8"
      },
      "source": [
        "import pandas as pd\n",
        "import numpy as np\n",
        "import matplotlib.pyplot as plt\n",
        "import seaborn as sns\n",
        "\n",
        "#to scale the data using z-score \n",
        "from sklearn.preprocessing import StandardScaler\n",
        "\n",
        "from sklearn.model_selection import train_test_split\n",
        "\n",
        "#algorithms to use\n",
        "from sklearn.linear_model import LogisticRegression\n",
        "\n",
        "#Metrics to evaluate the model\n",
        "from sklearn.metrics import confusion_matrix, classification_report, precision_recall_curve\n",
        "\n",
        "#to ignore warnings\n",
        "import warnings\n",
        "warnings.filterwarnings(\"ignore\")"
      ],
      "id": "d60f33c8",
      "execution_count": 1,
      "outputs": []
    },
    {
      "cell_type": "markdown",
      "metadata": {
        "id": "91a960cf"
      },
      "source": [
        "### Read the dataset"
      ],
      "id": "91a960cf"
    },
    {
      "cell_type": "code",
      "metadata": {
        "id": "ff29bb95"
      },
      "source": [
        "#reading the dataset\n",
        "import pandas as pd\n",
        "import requests\n",
        "from io import StringIO  \n",
        "\n",
        "orig_url=\"https://drive.google.com/file/d/147Z67u4-bp_ZVlbc18dg6J3h9ORRlCcW/view?usp=sharing\"\n",
        "\n",
        "file_id = orig_url.split('/')[-2]\n",
        "dwn_url='https://drive.google.com/uc?export=download&id=' + file_id\n",
        "url = requests.get(dwn_url).text\n",
        "\n",
        "csv_raw = StringIO(url)\n",
        "employees = pd.read_csv(csv_raw)"
      ],
      "id": "ff29bb95",
      "execution_count": 2,
      "outputs": []
    },
    {
      "cell_type": "code",
      "metadata": {
        "id": "6cc2e7f0",
        "colab": {
          "base_uri": "https://localhost:8080/",
          "height": 369
        },
        "outputId": "a5f88b81-8203-4790-9171-da1286bc6ecd"
      },
      "source": [
        "employees.head()"
      ],
      "id": "6cc2e7f0",
      "execution_count": 3,
      "outputs": [
        {
          "output_type": "execute_result",
          "data": {
            "text/plain": [
              "   EmployeeNumber Attrition  Age     BusinessTravel  DailyRate  \\\n",
              "0               1       Yes   41      Travel_Rarely       1102   \n",
              "1               2        No   49  Travel_Frequently        279   \n",
              "2               3       Yes   37      Travel_Rarely       1373   \n",
              "3               4        No   33  Travel_Frequently       1392   \n",
              "4               5        No   27      Travel_Rarely        591   \n",
              "\n",
              "               Department  DistanceFromHome  Education EducationField  \\\n",
              "0                   Sales                 1          2  Life Sciences   \n",
              "1  Research & Development                 8          1  Life Sciences   \n",
              "2  Research & Development                 2          2          Other   \n",
              "3  Research & Development                 3          4  Life Sciences   \n",
              "4  Research & Development                 2          1        Medical   \n",
              "\n",
              "   EnvironmentSatisfaction  ... RelationshipSatisfaction  StandardHours  \\\n",
              "0                        2  ...                        1             80   \n",
              "1                        3  ...                        4             80   \n",
              "2                        4  ...                        2             80   \n",
              "3                        4  ...                        3             80   \n",
              "4                        1  ...                        4             80   \n",
              "\n",
              "   StockOptionLevel  TotalWorkingYears TrainingTimesLastYear  WorkLifeBalance  \\\n",
              "0                 0                  8                     0                1   \n",
              "1                 1                 10                     3                3   \n",
              "2                 0                  7                     3                3   \n",
              "3                 0                  8                     3                3   \n",
              "4                 1                  6                     3                3   \n",
              "\n",
              "  YearsAtCompany  YearsInCurrentRole  YearsSinceLastPromotion  \\\n",
              "0              6                   4                        0   \n",
              "1             10                   7                        1   \n",
              "2              0                   0                        0   \n",
              "3              8                   7                        3   \n",
              "4              2                   2                        2   \n",
              "\n",
              "   YearsWithCurrManager  \n",
              "0                     5  \n",
              "1                     7  \n",
              "2                     0  \n",
              "3                     0  \n",
              "4                     2  \n",
              "\n",
              "[5 rows x 34 columns]"
            ],
            "text/html": [
              "\n",
              "  <div id=\"df-4e6ff09e-19b7-4cb7-97c4-1d7b48a6d9d8\">\n",
              "    <div class=\"colab-df-container\">\n",
              "      <div>\n",
              "<style scoped>\n",
              "    .dataframe tbody tr th:only-of-type {\n",
              "        vertical-align: middle;\n",
              "    }\n",
              "\n",
              "    .dataframe tbody tr th {\n",
              "        vertical-align: top;\n",
              "    }\n",
              "\n",
              "    .dataframe thead th {\n",
              "        text-align: right;\n",
              "    }\n",
              "</style>\n",
              "<table border=\"1\" class=\"dataframe\">\n",
              "  <thead>\n",
              "    <tr style=\"text-align: right;\">\n",
              "      <th></th>\n",
              "      <th>EmployeeNumber</th>\n",
              "      <th>Attrition</th>\n",
              "      <th>Age</th>\n",
              "      <th>BusinessTravel</th>\n",
              "      <th>DailyRate</th>\n",
              "      <th>Department</th>\n",
              "      <th>DistanceFromHome</th>\n",
              "      <th>Education</th>\n",
              "      <th>EducationField</th>\n",
              "      <th>EnvironmentSatisfaction</th>\n",
              "      <th>...</th>\n",
              "      <th>RelationshipSatisfaction</th>\n",
              "      <th>StandardHours</th>\n",
              "      <th>StockOptionLevel</th>\n",
              "      <th>TotalWorkingYears</th>\n",
              "      <th>TrainingTimesLastYear</th>\n",
              "      <th>WorkLifeBalance</th>\n",
              "      <th>YearsAtCompany</th>\n",
              "      <th>YearsInCurrentRole</th>\n",
              "      <th>YearsSinceLastPromotion</th>\n",
              "      <th>YearsWithCurrManager</th>\n",
              "    </tr>\n",
              "  </thead>\n",
              "  <tbody>\n",
              "    <tr>\n",
              "      <th>0</th>\n",
              "      <td>1</td>\n",
              "      <td>Yes</td>\n",
              "      <td>41</td>\n",
              "      <td>Travel_Rarely</td>\n",
              "      <td>1102</td>\n",
              "      <td>Sales</td>\n",
              "      <td>1</td>\n",
              "      <td>2</td>\n",
              "      <td>Life Sciences</td>\n",
              "      <td>2</td>\n",
              "      <td>...</td>\n",
              "      <td>1</td>\n",
              "      <td>80</td>\n",
              "      <td>0</td>\n",
              "      <td>8</td>\n",
              "      <td>0</td>\n",
              "      <td>1</td>\n",
              "      <td>6</td>\n",
              "      <td>4</td>\n",
              "      <td>0</td>\n",
              "      <td>5</td>\n",
              "    </tr>\n",
              "    <tr>\n",
              "      <th>1</th>\n",
              "      <td>2</td>\n",
              "      <td>No</td>\n",
              "      <td>49</td>\n",
              "      <td>Travel_Frequently</td>\n",
              "      <td>279</td>\n",
              "      <td>Research &amp; Development</td>\n",
              "      <td>8</td>\n",
              "      <td>1</td>\n",
              "      <td>Life Sciences</td>\n",
              "      <td>3</td>\n",
              "      <td>...</td>\n",
              "      <td>4</td>\n",
              "      <td>80</td>\n",
              "      <td>1</td>\n",
              "      <td>10</td>\n",
              "      <td>3</td>\n",
              "      <td>3</td>\n",
              "      <td>10</td>\n",
              "      <td>7</td>\n",
              "      <td>1</td>\n",
              "      <td>7</td>\n",
              "    </tr>\n",
              "    <tr>\n",
              "      <th>2</th>\n",
              "      <td>3</td>\n",
              "      <td>Yes</td>\n",
              "      <td>37</td>\n",
              "      <td>Travel_Rarely</td>\n",
              "      <td>1373</td>\n",
              "      <td>Research &amp; Development</td>\n",
              "      <td>2</td>\n",
              "      <td>2</td>\n",
              "      <td>Other</td>\n",
              "      <td>4</td>\n",
              "      <td>...</td>\n",
              "      <td>2</td>\n",
              "      <td>80</td>\n",
              "      <td>0</td>\n",
              "      <td>7</td>\n",
              "      <td>3</td>\n",
              "      <td>3</td>\n",
              "      <td>0</td>\n",
              "      <td>0</td>\n",
              "      <td>0</td>\n",
              "      <td>0</td>\n",
              "    </tr>\n",
              "    <tr>\n",
              "      <th>3</th>\n",
              "      <td>4</td>\n",
              "      <td>No</td>\n",
              "      <td>33</td>\n",
              "      <td>Travel_Frequently</td>\n",
              "      <td>1392</td>\n",
              "      <td>Research &amp; Development</td>\n",
              "      <td>3</td>\n",
              "      <td>4</td>\n",
              "      <td>Life Sciences</td>\n",
              "      <td>4</td>\n",
              "      <td>...</td>\n",
              "      <td>3</td>\n",
              "      <td>80</td>\n",
              "      <td>0</td>\n",
              "      <td>8</td>\n",
              "      <td>3</td>\n",
              "      <td>3</td>\n",
              "      <td>8</td>\n",
              "      <td>7</td>\n",
              "      <td>3</td>\n",
              "      <td>0</td>\n",
              "    </tr>\n",
              "    <tr>\n",
              "      <th>4</th>\n",
              "      <td>5</td>\n",
              "      <td>No</td>\n",
              "      <td>27</td>\n",
              "      <td>Travel_Rarely</td>\n",
              "      <td>591</td>\n",
              "      <td>Research &amp; Development</td>\n",
              "      <td>2</td>\n",
              "      <td>1</td>\n",
              "      <td>Medical</td>\n",
              "      <td>1</td>\n",
              "      <td>...</td>\n",
              "      <td>4</td>\n",
              "      <td>80</td>\n",
              "      <td>1</td>\n",
              "      <td>6</td>\n",
              "      <td>3</td>\n",
              "      <td>3</td>\n",
              "      <td>2</td>\n",
              "      <td>2</td>\n",
              "      <td>2</td>\n",
              "      <td>2</td>\n",
              "    </tr>\n",
              "  </tbody>\n",
              "</table>\n",
              "<p>5 rows × 34 columns</p>\n",
              "</div>\n",
              "      <button class=\"colab-df-convert\" onclick=\"convertToInteractive('df-4e6ff09e-19b7-4cb7-97c4-1d7b48a6d9d8')\"\n",
              "              title=\"Convert this dataframe to an interactive table.\"\n",
              "              style=\"display:none;\">\n",
              "        \n",
              "  <svg xmlns=\"http://www.w3.org/2000/svg\" height=\"24px\"viewBox=\"0 0 24 24\"\n",
              "       width=\"24px\">\n",
              "    <path d=\"M0 0h24v24H0V0z\" fill=\"none\"/>\n",
              "    <path d=\"M18.56 5.44l.94 2.06.94-2.06 2.06-.94-2.06-.94-.94-2.06-.94 2.06-2.06.94zm-11 1L8.5 8.5l.94-2.06 2.06-.94-2.06-.94L8.5 2.5l-.94 2.06-2.06.94zm10 10l.94 2.06.94-2.06 2.06-.94-2.06-.94-.94-2.06-.94 2.06-2.06.94z\"/><path d=\"M17.41 7.96l-1.37-1.37c-.4-.4-.92-.59-1.43-.59-.52 0-1.04.2-1.43.59L10.3 9.45l-7.72 7.72c-.78.78-.78 2.05 0 2.83L4 21.41c.39.39.9.59 1.41.59.51 0 1.02-.2 1.41-.59l7.78-7.78 2.81-2.81c.8-.78.8-2.07 0-2.86zM5.41 20L4 18.59l7.72-7.72 1.47 1.35L5.41 20z\"/>\n",
              "  </svg>\n",
              "      </button>\n",
              "      \n",
              "  <style>\n",
              "    .colab-df-container {\n",
              "      display:flex;\n",
              "      flex-wrap:wrap;\n",
              "      gap: 12px;\n",
              "    }\n",
              "\n",
              "    .colab-df-convert {\n",
              "      background-color: #E8F0FE;\n",
              "      border: none;\n",
              "      border-radius: 50%;\n",
              "      cursor: pointer;\n",
              "      display: none;\n",
              "      fill: #1967D2;\n",
              "      height: 32px;\n",
              "      padding: 0 0 0 0;\n",
              "      width: 32px;\n",
              "    }\n",
              "\n",
              "    .colab-df-convert:hover {\n",
              "      background-color: #E2EBFA;\n",
              "      box-shadow: 0px 1px 2px rgba(60, 64, 67, 0.3), 0px 1px 3px 1px rgba(60, 64, 67, 0.15);\n",
              "      fill: #174EA6;\n",
              "    }\n",
              "\n",
              "    [theme=dark] .colab-df-convert {\n",
              "      background-color: #3B4455;\n",
              "      fill: #D2E3FC;\n",
              "    }\n",
              "\n",
              "    [theme=dark] .colab-df-convert:hover {\n",
              "      background-color: #434B5C;\n",
              "      box-shadow: 0px 1px 3px 1px rgba(0, 0, 0, 0.15);\n",
              "      filter: drop-shadow(0px 1px 2px rgba(0, 0, 0, 0.3));\n",
              "      fill: #FFFFFF;\n",
              "    }\n",
              "  </style>\n",
              "\n",
              "      <script>\n",
              "        const buttonEl =\n",
              "          document.querySelector('#df-4e6ff09e-19b7-4cb7-97c4-1d7b48a6d9d8 button.colab-df-convert');\n",
              "        buttonEl.style.display =\n",
              "          google.colab.kernel.accessAllowed ? 'block' : 'none';\n",
              "\n",
              "        async function convertToInteractive(key) {\n",
              "          const element = document.querySelector('#df-4e6ff09e-19b7-4cb7-97c4-1d7b48a6d9d8');\n",
              "          const dataTable =\n",
              "            await google.colab.kernel.invokeFunction('convertToInteractive',\n",
              "                                                     [key], {});\n",
              "          if (!dataTable) return;\n",
              "\n",
              "          const docLinkHtml = 'Like what you see? Visit the ' +\n",
              "            '<a target=\"_blank\" href=https://colab.research.google.com/notebooks/data_table.ipynb>data table notebook</a>'\n",
              "            + ' to learn more about interactive tables.';\n",
              "          element.innerHTML = '';\n",
              "          dataTable['output_type'] = 'display_data';\n",
              "          await google.colab.output.renderOutput(dataTable, element);\n",
              "          const docLink = document.createElement('div');\n",
              "          docLink.innerHTML = docLinkHtml;\n",
              "          element.appendChild(docLink);\n",
              "        }\n",
              "      </script>\n",
              "    </div>\n",
              "  </div>\n",
              "  "
            ]
          },
          "metadata": {},
          "execution_count": 3
        }
      ]
    },
    {
      "cell_type": "markdown",
      "metadata": {
        "id": "f367a777"
      },
      "source": [
        "### Printing the info"
      ],
      "id": "f367a777"
    },
    {
      "cell_type": "code",
      "metadata": {
        "id": "e366b601",
        "colab": {
          "base_uri": "https://localhost:8080/"
        },
        "outputId": "018a90d3-5f93-49f3-f916-93f495275ddf"
      },
      "source": [
        "employees.info()"
      ],
      "id": "e366b601",
      "execution_count": 4,
      "outputs": [
        {
          "output_type": "stream",
          "name": "stdout",
          "text": [
            "<class 'pandas.core.frame.DataFrame'>\n",
            "RangeIndex: 2940 entries, 0 to 2939\n",
            "Data columns (total 34 columns):\n",
            " #   Column                    Non-Null Count  Dtype \n",
            "---  ------                    --------------  ----- \n",
            " 0   EmployeeNumber            2940 non-null   int64 \n",
            " 1   Attrition                 2940 non-null   object\n",
            " 2   Age                       2940 non-null   int64 \n",
            " 3   BusinessTravel            2940 non-null   object\n",
            " 4   DailyRate                 2940 non-null   int64 \n",
            " 5   Department                2940 non-null   object\n",
            " 6   DistanceFromHome          2940 non-null   int64 \n",
            " 7   Education                 2940 non-null   int64 \n",
            " 8   EducationField            2940 non-null   object\n",
            " 9   EnvironmentSatisfaction   2940 non-null   int64 \n",
            " 10  Gender                    2940 non-null   object\n",
            " 11  HourlyRate                2940 non-null   int64 \n",
            " 12  JobInvolvement            2940 non-null   int64 \n",
            " 13  JobLevel                  2940 non-null   int64 \n",
            " 14  JobRole                   2940 non-null   object\n",
            " 15  JobSatisfaction           2940 non-null   int64 \n",
            " 16  MaritalStatus             2940 non-null   object\n",
            " 17  MonthlyIncome             2940 non-null   int64 \n",
            " 18  MonthlyRate               2940 non-null   int64 \n",
            " 19  NumCompaniesWorked        2940 non-null   int64 \n",
            " 20  Over18                    2940 non-null   object\n",
            " 21  OverTime                  2940 non-null   object\n",
            " 22  PercentSalaryHike         2940 non-null   int64 \n",
            " 23  PerformanceRating         2940 non-null   int64 \n",
            " 24  RelationshipSatisfaction  2940 non-null   int64 \n",
            " 25  StandardHours             2940 non-null   int64 \n",
            " 26  StockOptionLevel          2940 non-null   int64 \n",
            " 27  TotalWorkingYears         2940 non-null   int64 \n",
            " 28  TrainingTimesLastYear     2940 non-null   int64 \n",
            " 29  WorkLifeBalance           2940 non-null   int64 \n",
            " 30  YearsAtCompany            2940 non-null   int64 \n",
            " 31  YearsInCurrentRole        2940 non-null   int64 \n",
            " 32  YearsSinceLastPromotion   2940 non-null   int64 \n",
            " 33  YearsWithCurrManager      2940 non-null   int64 \n",
            "dtypes: int64(25), object(9)\n",
            "memory usage: 781.1+ KB\n"
          ]
        }
      ]
    },
    {
      "cell_type": "markdown",
      "metadata": {
        "id": "f1f5de53"
      },
      "source": [
        "**Observation:**\n",
        "- There are 2940 observations and 33 columns.\n",
        "- All the column have 2940 non-null values i.e. there are no missing values in the data."
      ],
      "id": "f1f5de53"
    },
    {
      "cell_type": "markdown",
      "metadata": {
        "id": "09b353cb"
      },
      "source": [
        "**Let's check the unique values in each column** "
      ],
      "id": "09b353cb"
    },
    {
      "cell_type": "code",
      "metadata": {
        "id": "9b8f1776",
        "colab": {
          "base_uri": "https://localhost:8080/"
        },
        "outputId": "7b60dfb1-16d8-4aad-9a08-6d3353ac1e27"
      },
      "source": [
        "#checking unique values in each column\n",
        "employees.nunique()"
      ],
      "id": "9b8f1776",
      "execution_count": 5,
      "outputs": [
        {
          "output_type": "execute_result",
          "data": {
            "text/plain": [
              "EmployeeNumber              2940\n",
              "Attrition                      2\n",
              "Age                           43\n",
              "BusinessTravel                 3\n",
              "DailyRate                    886\n",
              "Department                     3\n",
              "DistanceFromHome              29\n",
              "Education                      5\n",
              "EducationField                 6\n",
              "EnvironmentSatisfaction        4\n",
              "Gender                         2\n",
              "HourlyRate                    71\n",
              "JobInvolvement                 4\n",
              "JobLevel                       5\n",
              "JobRole                        9\n",
              "JobSatisfaction                4\n",
              "MaritalStatus                  3\n",
              "MonthlyIncome               1349\n",
              "MonthlyRate                 1427\n",
              "NumCompaniesWorked            10\n",
              "Over18                         1\n",
              "OverTime                       2\n",
              "PercentSalaryHike             15\n",
              "PerformanceRating              2\n",
              "RelationshipSatisfaction       4\n",
              "StandardHours                  1\n",
              "StockOptionLevel               4\n",
              "TotalWorkingYears             40\n",
              "TrainingTimesLastYear          7\n",
              "WorkLifeBalance                4\n",
              "YearsAtCompany                37\n",
              "YearsInCurrentRole            19\n",
              "YearsSinceLastPromotion       16\n",
              "YearsWithCurrManager          18\n",
              "dtype: int64"
            ]
          },
          "metadata": {},
          "execution_count": 5
        }
      ]
    },
    {
      "cell_type": "markdown",
      "metadata": {
        "id": "8182513f"
      },
      "source": [
        "**Observation:**\n",
        "- Employee number is an identifier which is unique for each employee and we can drop this column as it would not add any value to our analysis.\n",
        "- Over18 and StandardHours have only 1 unique value. These column will not add any value to our model hence we can drop them.\n",
        "- On the basis of number of unique values in each column and the data description, we can identify the continuous and categorical columns in the data.\n",
        "\n",
        "Let's drop the columns mentioned above and define lists for numerical and categorical columns to apply explore them separately."
      ],
      "id": "8182513f"
    },
    {
      "cell_type": "code",
      "metadata": {
        "id": "2b73820f"
      },
      "source": [
        "#dropping the columns \n",
        "employees=employees.drop(['EmployeeNumber','Over18','StandardHours'],axis=1)"
      ],
      "id": "2b73820f",
      "execution_count": 6,
      "outputs": []
    },
    {
      "cell_type": "code",
      "metadata": {
        "id": "188e22ec"
      },
      "source": [
        "#Creating numerical columns\n",
        "num_cols=['DailyRate','Age','DistanceFromHome','MonthlyIncome','MonthlyRate','PercentSalaryHike','TotalWorkingYears',\n",
        "          'YearsAtCompany','NumCompaniesWorked','HourlyRate',\n",
        "          'YearsInCurrentRole','YearsSinceLastPromotion','YearsWithCurrManager','TrainingTimesLastYear']\n",
        "\n",
        "#Creating categorical variables \n",
        "cat_cols= ['Attrition','OverTime','BusinessTravel', 'Department','Education', 'EducationField','JobSatisfaction','EnvironmentSatisfaction','WorkLifeBalance',\n",
        "           'StockOptionLevel','Gender', 'PerformanceRating', 'JobInvolvement','JobLevel', 'JobRole', 'MaritalStatus','RelationshipSatisfaction']"
      ],
      "id": "188e22ec",
      "execution_count": 7,
      "outputs": []
    },
    {
      "cell_type": "markdown",
      "metadata": {
        "id": "7c1a436f"
      },
      "source": [
        "### Let's start with univariate analysis of numerical columns"
      ],
      "id": "7c1a436f"
    },
    {
      "cell_type": "code",
      "metadata": {
        "scrolled": false,
        "id": "fb41a488",
        "colab": {
          "base_uri": "https://localhost:8080/",
          "height": 488
        },
        "outputId": "62625a82-7b32-43dc-f219-e6f3fa962ce5"
      },
      "source": [
        "#Checking summary statistics\n",
        "employees[num_cols].describe().T"
      ],
      "id": "fb41a488",
      "execution_count": 8,
      "outputs": [
        {
          "output_type": "execute_result",
          "data": {
            "text/plain": [
              "                          count          mean          std     min     25%  \\\n",
              "DailyRate                2940.0    802.485714   403.440447   102.0   465.0   \n",
              "Age                      2940.0     36.923810     9.133819    18.0    30.0   \n",
              "DistanceFromHome         2940.0      9.192517     8.105485     1.0     2.0   \n",
              "MonthlyIncome            2940.0   6502.931293  4707.155770  1009.0  2911.0   \n",
              "MonthlyRate              2940.0  14313.103401  7116.575021  2094.0  8045.0   \n",
              "PercentSalaryHike        2940.0     15.209524     3.659315    11.0    12.0   \n",
              "TotalWorkingYears        2940.0     11.279592     7.779458     0.0     6.0   \n",
              "YearsAtCompany           2940.0      7.008163     6.125483     0.0     3.0   \n",
              "NumCompaniesWorked       2940.0      2.693197     2.497584     0.0     1.0   \n",
              "HourlyRate               2940.0     65.891156    20.325969    30.0    48.0   \n",
              "YearsInCurrentRole       2940.0      4.229252     3.622521     0.0     2.0   \n",
              "YearsSinceLastPromotion  2940.0      2.187755     3.221882     0.0     0.0   \n",
              "YearsWithCurrManager     2940.0      4.123129     3.567529     0.0     2.0   \n",
              "TrainingTimesLastYear    2940.0      2.799320     1.289051     0.0     2.0   \n",
              "\n",
              "                             50%      75%      max  \n",
              "DailyRate                  802.0   1157.0   1499.0  \n",
              "Age                         36.0     43.0     60.0  \n",
              "DistanceFromHome             7.0     14.0     29.0  \n",
              "MonthlyIncome             4919.0   8380.0  19999.0  \n",
              "MonthlyRate              14235.5  20462.0  26999.0  \n",
              "PercentSalaryHike           14.0     18.0     25.0  \n",
              "TotalWorkingYears           10.0     15.0     40.0  \n",
              "YearsAtCompany               5.0      9.0     40.0  \n",
              "NumCompaniesWorked           2.0      4.0      9.0  \n",
              "HourlyRate                  66.0     84.0    100.0  \n",
              "YearsInCurrentRole           3.0      7.0     18.0  \n",
              "YearsSinceLastPromotion      1.0      3.0     15.0  \n",
              "YearsWithCurrManager         3.0      7.0     17.0  \n",
              "TrainingTimesLastYear        3.0      3.0      6.0  "
            ],
            "text/html": [
              "\n",
              "  <div id=\"df-bf385c14-0d05-49fd-a48f-76b6837e7757\">\n",
              "    <div class=\"colab-df-container\">\n",
              "      <div>\n",
              "<style scoped>\n",
              "    .dataframe tbody tr th:only-of-type {\n",
              "        vertical-align: middle;\n",
              "    }\n",
              "\n",
              "    .dataframe tbody tr th {\n",
              "        vertical-align: top;\n",
              "    }\n",
              "\n",
              "    .dataframe thead th {\n",
              "        text-align: right;\n",
              "    }\n",
              "</style>\n",
              "<table border=\"1\" class=\"dataframe\">\n",
              "  <thead>\n",
              "    <tr style=\"text-align: right;\">\n",
              "      <th></th>\n",
              "      <th>count</th>\n",
              "      <th>mean</th>\n",
              "      <th>std</th>\n",
              "      <th>min</th>\n",
              "      <th>25%</th>\n",
              "      <th>50%</th>\n",
              "      <th>75%</th>\n",
              "      <th>max</th>\n",
              "    </tr>\n",
              "  </thead>\n",
              "  <tbody>\n",
              "    <tr>\n",
              "      <th>DailyRate</th>\n",
              "      <td>2940.0</td>\n",
              "      <td>802.485714</td>\n",
              "      <td>403.440447</td>\n",
              "      <td>102.0</td>\n",
              "      <td>465.0</td>\n",
              "      <td>802.0</td>\n",
              "      <td>1157.0</td>\n",
              "      <td>1499.0</td>\n",
              "    </tr>\n",
              "    <tr>\n",
              "      <th>Age</th>\n",
              "      <td>2940.0</td>\n",
              "      <td>36.923810</td>\n",
              "      <td>9.133819</td>\n",
              "      <td>18.0</td>\n",
              "      <td>30.0</td>\n",
              "      <td>36.0</td>\n",
              "      <td>43.0</td>\n",
              "      <td>60.0</td>\n",
              "    </tr>\n",
              "    <tr>\n",
              "      <th>DistanceFromHome</th>\n",
              "      <td>2940.0</td>\n",
              "      <td>9.192517</td>\n",
              "      <td>8.105485</td>\n",
              "      <td>1.0</td>\n",
              "      <td>2.0</td>\n",
              "      <td>7.0</td>\n",
              "      <td>14.0</td>\n",
              "      <td>29.0</td>\n",
              "    </tr>\n",
              "    <tr>\n",
              "      <th>MonthlyIncome</th>\n",
              "      <td>2940.0</td>\n",
              "      <td>6502.931293</td>\n",
              "      <td>4707.155770</td>\n",
              "      <td>1009.0</td>\n",
              "      <td>2911.0</td>\n",
              "      <td>4919.0</td>\n",
              "      <td>8380.0</td>\n",
              "      <td>19999.0</td>\n",
              "    </tr>\n",
              "    <tr>\n",
              "      <th>MonthlyRate</th>\n",
              "      <td>2940.0</td>\n",
              "      <td>14313.103401</td>\n",
              "      <td>7116.575021</td>\n",
              "      <td>2094.0</td>\n",
              "      <td>8045.0</td>\n",
              "      <td>14235.5</td>\n",
              "      <td>20462.0</td>\n",
              "      <td>26999.0</td>\n",
              "    </tr>\n",
              "    <tr>\n",
              "      <th>PercentSalaryHike</th>\n",
              "      <td>2940.0</td>\n",
              "      <td>15.209524</td>\n",
              "      <td>3.659315</td>\n",
              "      <td>11.0</td>\n",
              "      <td>12.0</td>\n",
              "      <td>14.0</td>\n",
              "      <td>18.0</td>\n",
              "      <td>25.0</td>\n",
              "    </tr>\n",
              "    <tr>\n",
              "      <th>TotalWorkingYears</th>\n",
              "      <td>2940.0</td>\n",
              "      <td>11.279592</td>\n",
              "      <td>7.779458</td>\n",
              "      <td>0.0</td>\n",
              "      <td>6.0</td>\n",
              "      <td>10.0</td>\n",
              "      <td>15.0</td>\n",
              "      <td>40.0</td>\n",
              "    </tr>\n",
              "    <tr>\n",
              "      <th>YearsAtCompany</th>\n",
              "      <td>2940.0</td>\n",
              "      <td>7.008163</td>\n",
              "      <td>6.125483</td>\n",
              "      <td>0.0</td>\n",
              "      <td>3.0</td>\n",
              "      <td>5.0</td>\n",
              "      <td>9.0</td>\n",
              "      <td>40.0</td>\n",
              "    </tr>\n",
              "    <tr>\n",
              "      <th>NumCompaniesWorked</th>\n",
              "      <td>2940.0</td>\n",
              "      <td>2.693197</td>\n",
              "      <td>2.497584</td>\n",
              "      <td>0.0</td>\n",
              "      <td>1.0</td>\n",
              "      <td>2.0</td>\n",
              "      <td>4.0</td>\n",
              "      <td>9.0</td>\n",
              "    </tr>\n",
              "    <tr>\n",
              "      <th>HourlyRate</th>\n",
              "      <td>2940.0</td>\n",
              "      <td>65.891156</td>\n",
              "      <td>20.325969</td>\n",
              "      <td>30.0</td>\n",
              "      <td>48.0</td>\n",
              "      <td>66.0</td>\n",
              "      <td>84.0</td>\n",
              "      <td>100.0</td>\n",
              "    </tr>\n",
              "    <tr>\n",
              "      <th>YearsInCurrentRole</th>\n",
              "      <td>2940.0</td>\n",
              "      <td>4.229252</td>\n",
              "      <td>3.622521</td>\n",
              "      <td>0.0</td>\n",
              "      <td>2.0</td>\n",
              "      <td>3.0</td>\n",
              "      <td>7.0</td>\n",
              "      <td>18.0</td>\n",
              "    </tr>\n",
              "    <tr>\n",
              "      <th>YearsSinceLastPromotion</th>\n",
              "      <td>2940.0</td>\n",
              "      <td>2.187755</td>\n",
              "      <td>3.221882</td>\n",
              "      <td>0.0</td>\n",
              "      <td>0.0</td>\n",
              "      <td>1.0</td>\n",
              "      <td>3.0</td>\n",
              "      <td>15.0</td>\n",
              "    </tr>\n",
              "    <tr>\n",
              "      <th>YearsWithCurrManager</th>\n",
              "      <td>2940.0</td>\n",
              "      <td>4.123129</td>\n",
              "      <td>3.567529</td>\n",
              "      <td>0.0</td>\n",
              "      <td>2.0</td>\n",
              "      <td>3.0</td>\n",
              "      <td>7.0</td>\n",
              "      <td>17.0</td>\n",
              "    </tr>\n",
              "    <tr>\n",
              "      <th>TrainingTimesLastYear</th>\n",
              "      <td>2940.0</td>\n",
              "      <td>2.799320</td>\n",
              "      <td>1.289051</td>\n",
              "      <td>0.0</td>\n",
              "      <td>2.0</td>\n",
              "      <td>3.0</td>\n",
              "      <td>3.0</td>\n",
              "      <td>6.0</td>\n",
              "    </tr>\n",
              "  </tbody>\n",
              "</table>\n",
              "</div>\n",
              "      <button class=\"colab-df-convert\" onclick=\"convertToInteractive('df-bf385c14-0d05-49fd-a48f-76b6837e7757')\"\n",
              "              title=\"Convert this dataframe to an interactive table.\"\n",
              "              style=\"display:none;\">\n",
              "        \n",
              "  <svg xmlns=\"http://www.w3.org/2000/svg\" height=\"24px\"viewBox=\"0 0 24 24\"\n",
              "       width=\"24px\">\n",
              "    <path d=\"M0 0h24v24H0V0z\" fill=\"none\"/>\n",
              "    <path d=\"M18.56 5.44l.94 2.06.94-2.06 2.06-.94-2.06-.94-.94-2.06-.94 2.06-2.06.94zm-11 1L8.5 8.5l.94-2.06 2.06-.94-2.06-.94L8.5 2.5l-.94 2.06-2.06.94zm10 10l.94 2.06.94-2.06 2.06-.94-2.06-.94-.94-2.06-.94 2.06-2.06.94z\"/><path d=\"M17.41 7.96l-1.37-1.37c-.4-.4-.92-.59-1.43-.59-.52 0-1.04.2-1.43.59L10.3 9.45l-7.72 7.72c-.78.78-.78 2.05 0 2.83L4 21.41c.39.39.9.59 1.41.59.51 0 1.02-.2 1.41-.59l7.78-7.78 2.81-2.81c.8-.78.8-2.07 0-2.86zM5.41 20L4 18.59l7.72-7.72 1.47 1.35L5.41 20z\"/>\n",
              "  </svg>\n",
              "      </button>\n",
              "      \n",
              "  <style>\n",
              "    .colab-df-container {\n",
              "      display:flex;\n",
              "      flex-wrap:wrap;\n",
              "      gap: 12px;\n",
              "    }\n",
              "\n",
              "    .colab-df-convert {\n",
              "      background-color: #E8F0FE;\n",
              "      border: none;\n",
              "      border-radius: 50%;\n",
              "      cursor: pointer;\n",
              "      display: none;\n",
              "      fill: #1967D2;\n",
              "      height: 32px;\n",
              "      padding: 0 0 0 0;\n",
              "      width: 32px;\n",
              "    }\n",
              "\n",
              "    .colab-df-convert:hover {\n",
              "      background-color: #E2EBFA;\n",
              "      box-shadow: 0px 1px 2px rgba(60, 64, 67, 0.3), 0px 1px 3px 1px rgba(60, 64, 67, 0.15);\n",
              "      fill: #174EA6;\n",
              "    }\n",
              "\n",
              "    [theme=dark] .colab-df-convert {\n",
              "      background-color: #3B4455;\n",
              "      fill: #D2E3FC;\n",
              "    }\n",
              "\n",
              "    [theme=dark] .colab-df-convert:hover {\n",
              "      background-color: #434B5C;\n",
              "      box-shadow: 0px 1px 3px 1px rgba(0, 0, 0, 0.15);\n",
              "      filter: drop-shadow(0px 1px 2px rgba(0, 0, 0, 0.3));\n",
              "      fill: #FFFFFF;\n",
              "    }\n",
              "  </style>\n",
              "\n",
              "      <script>\n",
              "        const buttonEl =\n",
              "          document.querySelector('#df-bf385c14-0d05-49fd-a48f-76b6837e7757 button.colab-df-convert');\n",
              "        buttonEl.style.display =\n",
              "          google.colab.kernel.accessAllowed ? 'block' : 'none';\n",
              "\n",
              "        async function convertToInteractive(key) {\n",
              "          const element = document.querySelector('#df-bf385c14-0d05-49fd-a48f-76b6837e7757');\n",
              "          const dataTable =\n",
              "            await google.colab.kernel.invokeFunction('convertToInteractive',\n",
              "                                                     [key], {});\n",
              "          if (!dataTable) return;\n",
              "\n",
              "          const docLinkHtml = 'Like what you see? Visit the ' +\n",
              "            '<a target=\"_blank\" href=https://colab.research.google.com/notebooks/data_table.ipynb>data table notebook</a>'\n",
              "            + ' to learn more about interactive tables.';\n",
              "          element.innerHTML = '';\n",
              "          dataTable['output_type'] = 'display_data';\n",
              "          await google.colab.output.renderOutput(dataTable, element);\n",
              "          const docLink = document.createElement('div');\n",
              "          docLink.innerHTML = docLinkHtml;\n",
              "          element.appendChild(docLink);\n",
              "        }\n",
              "      </script>\n",
              "    </div>\n",
              "  </div>\n",
              "  "
            ]
          },
          "metadata": {},
          "execution_count": 8
        }
      ]
    },
    {
      "cell_type": "markdown",
      "metadata": {
        "id": "3fa3d39e"
      },
      "source": [
        "- **Average employee age is around 37 years**. It has a high range, from 18 years to 60, indicating good age diversity in the organization.\n",
        "- **At least 50% of the employees live within a 7 km radius** from the organization. However there are some extreme values, seeing as the maximum value is 29 km.\n",
        "- **The average monthly income of an employee is USD 6500.** It has a high range of values from 1K-20K, which is to be expected for any organization's income distribution. There is a big difference between the 3rd quartile value (around USD 8400) and the maximum value (nearly USD 20000), showing that the **company's highest earners have a disproportionately large income** in comparison to the rest of the employees. Again, this is fairly common in most organizations.\n",
        "- **Average salary hike of an employee is around 15%.** At least 50% of employees got a salary hike 14% or less, with the maximum salary hike being 25%.\n",
        "- Average number of years an employee is associated with the company is 7. \n",
        "- **On average, the number of years since an employee got a promotion is 2.18**. The majority of employees have been promoted since the last year."
      ],
      "id": "3fa3d39e"
    },
    {
      "cell_type": "markdown",
      "metadata": {
        "id": "3283a6be"
      },
      "source": [
        "Let's explore these variables in some more depth by observing their distributions"
      ],
      "id": "3283a6be"
    },
    {
      "cell_type": "code",
      "metadata": {
        "id": "6b1e0479",
        "colab": {
          "base_uri": "https://localhost:8080/",
          "height": 825
        },
        "outputId": "70760a10-5757-4845-b638-f273bfec1c2d"
      },
      "source": [
        "#creating histograms\n",
        "employees[num_cols].hist(figsize=(14,14))\n",
        "plt.show()"
      ],
      "id": "6b1e0479",
      "execution_count": 9,
      "outputs": [
        {
          "output_type": "display_data",
          "data": {
            "text/plain": [
              "<Figure size 1008x1008 with 16 Axes>"
            ],
            "image/png": "[encoded data removed]"
          },
          "metadata": {
            "needs_background": "light"
          }
        }
      ]
    },
    {
      "cell_type": "markdown",
      "metadata": {
        "id": "ec26cfc8"
      },
      "source": [
        "**Observations:**\n",
        "\n",
        "- **The age distribution is close to a normal distribution** with the majority of employees between the ages of 25 and 50.\n",
        "\n",
        "- **The percentage salary hike is skewed to the right**, which means employees are mostly getting lower percentage salary increases.\n",
        "\n",
        "- **MonthlyIncome and TotalWorkingYears are skewed to the right**, indicating that the majority of workers are in entry / mid-level positions in the organization.\n",
        "\n",
        "- **DistanceFromHome also has a right skewed distribution**, meaning most employees live close to work but there are a few that live further away.\n",
        "\n",
        "- **On average, an employee has worked at 2.5 companies.** Most employees have worked at only 1 company.\n",
        "\n",
        "- **The YearsAtCompany variable distribution shows a good proportion of workers with 10+ years**, indicating a significant number of loyal employees at the organization. \n",
        "\n",
        "- **The YearsInCurrentRole distribution has three peaks at 0, 2, and 7.** There are a few employees that have even stayed in the same role for 15 years and more.\n",
        "\n",
        "- **The YearsSinceLastPromotion variable distribution indicates that some employees have not received a promotion in 10-15 years and are still working in the organization.** These employees are assumed to be high work-experience employees in upper-management roles, such as co-founders, C-suite employees and the like.\n",
        "\n",
        "- The distributions of DailyRate, HourlyRate and MonthlyRate appear to be uniform and do not provide much information. It could be that daily rate refers to the income earned per extra day worked while hourly rate could refer to the same concept applied for extra hours worked per day. Since these rates tend to be broadly similiar for multiple employees in the same department, that explains the uniform distribution they show. "
      ],
      "id": "ec26cfc8"
    },
    {
      "cell_type": "markdown",
      "metadata": {
        "id": "6e605786"
      },
      "source": [
        "### Univariate analysis for categorical variables"
      ],
      "id": "6e605786"
    },
    {
      "cell_type": "code",
      "metadata": {
        "id": "1902184e",
        "colab": {
          "base_uri": "https://localhost:8080/"
        },
        "outputId": "57488112-f907-486e-a41e-9c9c64fcad38"
      },
      "source": [
        "#Printing the % sub categories of each category\n",
        "for i in cat_cols:\n",
        "    print(employees[i].value_counts(normalize=True))\n",
        "    print('*'*40)"
      ],
      "id": "1902184e",
      "execution_count": 10,
      "outputs": [
        {
          "output_type": "stream",
          "name": "stdout",
          "text": [
            "No     0.838776\n",
            "Yes    0.161224\n",
            "Name: Attrition, dtype: float64\n",
            "****************************************\n",
            "No     0.717007\n",
            "Yes    0.282993\n",
            "Name: OverTime, dtype: float64\n",
            "****************************************\n",
            "Travel_Rarely        0.709524\n",
            "Travel_Frequently    0.188435\n",
            "Non-Travel           0.102041\n",
            "Name: BusinessTravel, dtype: float64\n",
            "****************************************\n",
            "Research & Development    0.653741\n",
            "Sales                     0.303401\n",
            "Human Resources           0.042857\n",
            "Name: Department, dtype: float64\n",
            "****************************************\n",
            "3    0.389116\n",
            "4    0.270748\n",
            "2    0.191837\n",
            "1    0.115646\n",
            "5    0.032653\n",
            "Name: Education, dtype: float64\n",
            "****************************************\n",
            "Life Sciences       0.412245\n",
            "Medical             0.315646\n",
            "Marketing           0.108163\n",
            "Technical Degree    0.089796\n",
            "Other               0.055782\n",
            "Human Resources     0.018367\n",
            "Name: EducationField, dtype: float64\n",
            "****************************************\n",
            "4    0.312245\n",
            "3    0.300680\n",
            "1    0.196599\n",
            "2    0.190476\n",
            "Name: JobSatisfaction, dtype: float64\n",
            "****************************************\n",
            "3    0.308163\n",
            "4    0.303401\n",
            "2    0.195238\n",
            "1    0.193197\n",
            "Name: EnvironmentSatisfaction, dtype: float64\n",
            "****************************************\n",
            "3    0.607483\n",
            "2    0.234014\n",
            "4    0.104082\n",
            "1    0.054422\n",
            "Name: WorkLifeBalance, dtype: float64\n",
            "****************************************\n",
            "0    0.429252\n",
            "1    0.405442\n",
            "2    0.107483\n",
            "3    0.057823\n",
            "Name: StockOptionLevel, dtype: float64\n",
            "****************************************\n",
            "Male      0.6\n",
            "Female    0.4\n",
            "Name: Gender, dtype: float64\n",
            "****************************************\n",
            "3    0.846259\n",
            "4    0.153741\n",
            "Name: PerformanceRating, dtype: float64\n",
            "****************************************\n",
            "3    0.590476\n",
            "2    0.255102\n",
            "4    0.097959\n",
            "1    0.056463\n",
            "Name: JobInvolvement, dtype: float64\n",
            "****************************************\n",
            "1    0.369388\n",
            "2    0.363265\n",
            "3    0.148299\n",
            "4    0.072109\n",
            "5    0.046939\n",
            "Name: JobLevel, dtype: float64\n",
            "****************************************\n",
            "Sales Executive              0.221769\n",
            "Research Scientist           0.198639\n",
            "Laboratory Technician        0.176190\n",
            "Manufacturing Director       0.098639\n",
            "Healthcare Representative    0.089116\n",
            "Manager                      0.069388\n",
            "Sales Representative         0.056463\n",
            "Research Director            0.054422\n",
            "Human Resources              0.035374\n",
            "Name: JobRole, dtype: float64\n",
            "****************************************\n",
            "Married     0.457823\n",
            "Single      0.319728\n",
            "Divorced    0.222449\n",
            "Name: MaritalStatus, dtype: float64\n",
            "****************************************\n",
            "3    0.312245\n",
            "4    0.293878\n",
            "2    0.206122\n",
            "1    0.187755\n",
            "Name: RelationshipSatisfaction, dtype: float64\n",
            "****************************************\n"
          ]
        }
      ]
    },
    {
      "cell_type": "markdown",
      "metadata": {
        "id": "c093aae2"
      },
      "source": [
        "**Observations:**\n",
        "\n",
        "- **The employee attrition rate is 16%.**\n",
        "- **Around 28% of the employees are working overtime.** This number appears to be on the higher side, and might indicate a stressed employee work-life.\n",
        "- 71% of the employees have traveled rarely, while around 19% have to travel frequently.\n",
        "- Around 73% of the employees come from an educational background in the Life Sciences and Medical fields. \n",
        "- Over 65% of employees work in the Research & Development department of the organization.\n",
        "- **Nearly 40% of the employees have low (1) or medium-low (2) job satisfaction** and environment satisfaction in the organization, indicating that the morale of the company appears to be somewhat low.\n",
        "- **Over 30% of the employees show low (1) to medium-low (2) job involvement.** \n",
        "- Over 80% of the employees either have none or very less stock options. \n",
        "- **In terms of performance ratings, none of the employees have rated lower than 3 (excellent).** About 85% of employees have a performance rating equal to 3 (excellent), while the remaining have a rating of 4 (outstanding). This could either mean that the majority of employees are top performers, or  the more likely scenerio is that the organization could be highly lenient with its performance appraisal process."
      ],
      "id": "c093aae2"
    },
    {
      "cell_type": "markdown",
      "metadata": {
        "id": "bdb2961d"
      },
      "source": [
        "### Bivariate and Multivariate analysis"
      ],
      "id": "bdb2961d"
    },
    {
      "cell_type": "markdown",
      "metadata": {
        "id": "643dd47d"
      },
      "source": [
        "**We have analyzed different categorical and numerical variables.** \n",
        "\n",
        "**Let's now check how does attrition rate is related with other categorical variables**"
      ],
      "id": "643dd47d"
    },
    {
      "cell_type": "code",
      "metadata": {
        "scrolled": false,
        "id": "796c2b07",
        "colab": {
          "base_uri": "https://localhost:8080/",
          "height": 1000
        },
        "outputId": "f97ccf15-10d8-40d4-98a0-4d2751f3be42"
      },
      "source": [
        "for i in cat_cols:\n",
        "    if i!='Attrition':\n",
        "        (pd.crosstab(employees[i],employees['Attrition'],normalize='index')*100).plot(kind='bar',figsize=(8,4),stacked=True)\n",
        "        plt.ylabel('Percentage Attrition %')"
      ],
      "id": "796c2b07",
      "execution_count": 11,
      "outputs": [
        {
          "output_type": "display_data",
          "data": {
            "text/plain": [
              "<Figure size 576x288 with 1 Axes>"
            ],
            "image/png": "[encoded data removed]"
          },
          "metadata": {
            "needs_background": "light"
          }
        },
        {
          "output_type": "display_data",
          "data": {
            "text/plain": [
              "<Figure size 576x288 with 1 Axes>"
            ],
            "image/png": "[encoded data removed]"
          },
          "metadata": {
            "needs_background": "light"
          }
        },
        {
          "output_type": "display_data",
          "data": {
            "text/plain": [
              "<Figure size 576x288 with 1 Axes>"
            ],
            "image/png": "[encoded data removed]"
          },
          "metadata": {
            "needs_background": "light"
          }
        },
        {
          "output_type": "display_data",
          "data": {
            "text/plain": [
              "<Figure size 576x288 with 1 Axes>"
            ],
            "image/png": "[encoded data removed]"
          },
          "metadata": {
            "needs_background": "light"
          }
        },
        {
          "output_type": "display_data",
          "data": {
            "text/plain": [
              "<Figure size 576x288 with 1 Axes>"
            ],
            "image/png": "[encoded data removed]"
          },
          "metadata": {
            "needs_background": "light"
          }
        },
        {
          "output_type": "display_data",
          "data": {
            "text/plain": [
              "<Figure size 576x288 with 1 Axes>"
            ],
            "image/png": "[encoded data removed]"
          },
          "metadata": {
            "needs_background": "light"
          }
        },
        {
          "output_type": "display_data",
          "data": {
            "text/plain": [
              "<Figure size 576x288 with 1 Axes>"
            ],
            "image/png": "[encoded data removed]"
          },
          "metadata": {
            "needs_background": "light"
          }
        },
        {
          "output_type": "display_data",
          "data": {
            "text/plain": [
              "<Figure size 576x288 with 1 Axes>"
            ],
            "image/png": "[encoded data removed]"
          },
          "metadata": {
            "needs_background": "light"
          }
        },
        {
          "output_type": "display_data",
          "data": {
            "text/plain": [
              "<Figure size 576x288 with 1 Axes>"
            ],
            "image/png": "[encoded data removed]"
          },
          "metadata": {
            "needs_background": "light"
          }
        },
        {
          "output_type": "display_data",
          "data": {
            "text/plain": [
              "<Figure size 576x288 with 1 Axes>"
            ],
            "image/png": "[encoded data removed]"
          },
          "metadata": {
            "needs_background": "light"
          }
        },
        {
          "output_type": "display_data",
          "data": {
            "text/plain": [
              "<Figure size 576x288 with 1 Axes>"
            ],
            "image/png": "[encoded data removed]"
          },
          "metadata": {
            "needs_background": "light"
          }
        },
        {
          "output_type": "display_data",
          "data": {
            "text/plain": [
              "<Figure size 576x288 with 1 Axes>"
            ],
            "image/png": "[encoded data removed]"
          },
          "metadata": {
            "needs_background": "light"
          }
        },
        {
          "output_type": "display_data",
          "data": {
            "text/plain": [
              "<Figure size 576x288 with 1 Axes>"
            ],
            "image/png": "[encoded data removed]"
          },
          "metadata": {
            "needs_background": "light"
          }
        },
        {
          "output_type": "display_data",
          "data": {
            "text/plain": [
              "<Figure size 576x288 with 1 Axes>"
            ],
            "image/png": "[encoded data removed]"
          },
          "metadata": {
            "needs_background": "light"
          }
        },
        {
          "output_type": "display_data",
          "data": {
            "text/plain": [
              "<Figure size 576x288 with 1 Axes>"
            ],
            "image/png": "[encoded data removed]"
          },
          "metadata": {
            "needs_background": "light"
          }
        },
        {
          "output_type": "display_data",
          "data": {
            "text/plain": [
              "<Figure size 576x288 with 1 Axes>"
            ],
            "image/png": "[encoded data removed]"
          },
          "metadata": {
            "needs_background": "light"
          }
        }
      ]
    },
    {
      "cell_type": "markdown",
      "metadata": {
        "id": "3f91face"
      },
      "source": [
        "**Observations:**\n",
        "    \n",
        "- **Employees working overtime have more than a 30% chance of attrition**, \n",
        "which is very high compared to the 10% chance of attrition for employees who do not work extra hours.\n",
        "- As seen earlier, the majority of employees work for the R&D department. The chance of attrition there is ~15%\n",
        "- **Employees working as sales representatives have an attrition rate of around 40%** while HRs and Technicians have an attrition rate of around 25%. The sales and HR departments have higher attrition rates in comparison to an academic department like Research & Development, an observation that makes intuitive sense keeping in mind the differences in those job profiles. The high-pressure and incentive-based nature of Sales and Marketing roles may be contributing to their higher attrition rates.\n",
        "- **The lower the employee's job involvement, the higher their attrition chances appear to be, with 1-rated JobInvolvement employees attriting at 35%.** The reason for this could be that employees with lower job involvement might feel left out or less valued and have already started to explore new options, leading to a higher attrition rate.\n",
        "- **Employees at a lower job level also attrite more,** with 1-rated JobLevel employees showing a nearly 25% chance of attrition. These may be young employees who tend to explore more options in the initial stages of their careers. \n",
        "- **A low work-life balance rating clearly leads employees to attrite**; 30% of those in the 1-rated category show attrition."
      ],
      "id": "3f91face"
    },
    {
      "cell_type": "markdown",
      "metadata": {
        "id": "93b053a6"
      },
      "source": [
        "**Let's check the relationship between attrition and Numerical variables**"
      ],
      "id": "93b053a6"
    },
    {
      "cell_type": "code",
      "metadata": {
        "id": "a6dbb256",
        "colab": {
          "base_uri": "https://localhost:8080/",
          "height": 207
        },
        "outputId": "8d2bed67-cad1-4f02-983a-682464bf23b3"
      },
      "source": [
        "#Mean of numerical varibles grouped by attrition\n",
        "employees.groupby(['Attrition'])[num_cols].mean()"
      ],
      "id": "a6dbb256",
      "execution_count": 12,
      "outputs": [
        {
          "output_type": "execute_result",
          "data": {
            "text/plain": [
              "            DailyRate        Age  DistanceFromHome  MonthlyIncome  \\\n",
              "Attrition                                                           \n",
              "No         812.504461  37.561233          8.915653    6832.739659   \n",
              "Yes        750.362869  33.607595         10.632911    4787.092827   \n",
              "\n",
              "            MonthlyRate  PercentSalaryHike  TotalWorkingYears  YearsAtCompany  \\\n",
              "Attrition                                                                       \n",
              "No         14265.779400          15.231144          11.862936        7.369019   \n",
              "Yes        14559.308017          15.097046           8.244726        5.130802   \n",
              "\n",
              "           NumCompaniesWorked  HourlyRate  YearsInCurrentRole  \\\n",
              "Attrition                                                       \n",
              "No                   2.645580   65.952149            4.484185   \n",
              "Yes                  2.940928   65.573840            2.902954   \n",
              "\n",
              "           YearsSinceLastPromotion  YearsWithCurrManager  \\\n",
              "Attrition                                                  \n",
              "No                        2.234388              4.367397   \n",
              "Yes                       1.945148              2.852321   \n",
              "\n",
              "           TrainingTimesLastYear  \n",
              "Attrition                         \n",
              "No                      2.832928  \n",
              "Yes                     2.624473  "
            ],
            "text/html": [
              "\n",
              "  <div id=\"df-381ac9d1-0c3d-444f-90a1-5da3304f4b41\">\n",
              "    <div class=\"colab-df-container\">\n",
              "      <div>\n",
              "<style scoped>\n",
              "    .dataframe tbody tr th:only-of-type {\n",
              "        vertical-align: middle;\n",
              "    }\n",
              "\n",
              "    .dataframe tbody tr th {\n",
              "        vertical-align: top;\n",
              "    }\n",
              "\n",
              "    .dataframe thead th {\n",
              "        text-align: right;\n",
              "    }\n",
              "</style>\n",
              "<table border=\"1\" class=\"dataframe\">\n",
              "  <thead>\n",
              "    <tr style=\"text-align: right;\">\n",
              "      <th></th>\n",
              "      <th>DailyRate</th>\n",
              "      <th>Age</th>\n",
              "      <th>DistanceFromHome</th>\n",
              "      <th>MonthlyIncome</th>\n",
              "      <th>MonthlyRate</th>\n",
              "      <th>PercentSalaryHike</th>\n",
              "      <th>TotalWorkingYears</th>\n",
              "      <th>YearsAtCompany</th>\n",
              "      <th>NumCompaniesWorked</th>\n",
              "      <th>HourlyRate</th>\n",
              "      <th>YearsInCurrentRole</th>\n",
              "      <th>YearsSinceLastPromotion</th>\n",
              "      <th>YearsWithCurrManager</th>\n",
              "      <th>TrainingTimesLastYear</th>\n",
              "    </tr>\n",
              "    <tr>\n",
              "      <th>Attrition</th>\n",
              "      <th></th>\n",
              "      <th></th>\n",
              "      <th></th>\n",
              "      <th></th>\n",
              "      <th></th>\n",
              "      <th></th>\n",
              "      <th></th>\n",
              "      <th></th>\n",
              "      <th></th>\n",
              "      <th></th>\n",
              "      <th></th>\n",
              "      <th></th>\n",
              "      <th></th>\n",
              "      <th></th>\n",
              "    </tr>\n",
              "  </thead>\n",
              "  <tbody>\n",
              "    <tr>\n",
              "      <th>No</th>\n",
              "      <td>812.504461</td>\n",
              "      <td>37.561233</td>\n",
              "      <td>8.915653</td>\n",
              "      <td>6832.739659</td>\n",
              "      <td>14265.779400</td>\n",
              "      <td>15.231144</td>\n",
              "      <td>11.862936</td>\n",
              "      <td>7.369019</td>\n",
              "      <td>2.645580</td>\n",
              "      <td>65.952149</td>\n",
              "      <td>4.484185</td>\n",
              "      <td>2.234388</td>\n",
              "      <td>4.367397</td>\n",
              "      <td>2.832928</td>\n",
              "    </tr>\n",
              "    <tr>\n",
              "      <th>Yes</th>\n",
              "      <td>750.362869</td>\n",
              "      <td>33.607595</td>\n",
              "      <td>10.632911</td>\n",
              "      <td>4787.092827</td>\n",
              "      <td>14559.308017</td>\n",
              "      <td>15.097046</td>\n",
              "      <td>8.244726</td>\n",
              "      <td>5.130802</td>\n",
              "      <td>2.940928</td>\n",
              "      <td>65.573840</td>\n",
              "      <td>2.902954</td>\n",
              "      <td>1.945148</td>\n",
              "      <td>2.852321</td>\n",
              "      <td>2.624473</td>\n",
              "    </tr>\n",
              "  </tbody>\n",
              "</table>\n",
              "</div>\n",
              "      <button class=\"colab-df-convert\" onclick=\"convertToInteractive('df-381ac9d1-0c3d-444f-90a1-5da3304f4b41')\"\n",
              "              title=\"Convert this dataframe to an interactive table.\"\n",
              "              style=\"display:none;\">\n",
              "        \n",
              "  <svg xmlns=\"http://www.w3.org/2000/svg\" height=\"24px\"viewBox=\"0 0 24 24\"\n",
              "       width=\"24px\">\n",
              "    <path d=\"M0 0h24v24H0V0z\" fill=\"none\"/>\n",
              "    <path d=\"M18.56 5.44l.94 2.06.94-2.06 2.06-.94-2.06-.94-.94-2.06-.94 2.06-2.06.94zm-11 1L8.5 8.5l.94-2.06 2.06-.94-2.06-.94L8.5 2.5l-.94 2.06-2.06.94zm10 10l.94 2.06.94-2.06 2.06-.94-2.06-.94-.94-2.06-.94 2.06-2.06.94z\"/><path d=\"M17.41 7.96l-1.37-1.37c-.4-.4-.92-.59-1.43-.59-.52 0-1.04.2-1.43.59L10.3 9.45l-7.72 7.72c-.78.78-.78 2.05 0 2.83L4 21.41c.39.39.9.59 1.41.59.51 0 1.02-.2 1.41-.59l7.78-7.78 2.81-2.81c.8-.78.8-2.07 0-2.86zM5.41 20L4 18.59l7.72-7.72 1.47 1.35L5.41 20z\"/>\n",
              "  </svg>\n",
              "      </button>\n",
              "      \n",
              "  <style>\n",
              "    .colab-df-container {\n",
              "      display:flex;\n",
              "      flex-wrap:wrap;\n",
              "      gap: 12px;\n",
              "    }\n",
              "\n",
              "    .colab-df-convert {\n",
              "      background-color: #E8F0FE;\n",
              "      border: none;\n",
              "      border-radius: 50%;\n",
              "      cursor: pointer;\n",
              "      display: none;\n",
              "      fill: #1967D2;\n",
              "      height: 32px;\n",
              "      padding: 0 0 0 0;\n",
              "      width: 32px;\n",
              "    }\n",
              "\n",
              "    .colab-df-convert:hover {\n",
              "      background-color: #E2EBFA;\n",
              "      box-shadow: 0px 1px 2px rgba(60, 64, 67, 0.3), 0px 1px 3px 1px rgba(60, 64, 67, 0.15);\n",
              "      fill: #174EA6;\n",
              "    }\n",
              "\n",
              "    [theme=dark] .colab-df-convert {\n",
              "      background-color: #3B4455;\n",
              "      fill: #D2E3FC;\n",
              "    }\n",
              "\n",
              "    [theme=dark] .colab-df-convert:hover {\n",
              "      background-color: #434B5C;\n",
              "      box-shadow: 0px 1px 3px 1px rgba(0, 0, 0, 0.15);\n",
              "      filter: drop-shadow(0px 1px 2px rgba(0, 0, 0, 0.3));\n",
              "      fill: #FFFFFF;\n",
              "    }\n",
              "  </style>\n",
              "\n",
              "      <script>\n",
              "        const buttonEl =\n",
              "          document.querySelector('#df-381ac9d1-0c3d-444f-90a1-5da3304f4b41 button.colab-df-convert');\n",
              "        buttonEl.style.display =\n",
              "          google.colab.kernel.accessAllowed ? 'block' : 'none';\n",
              "\n",
              "        async function convertToInteractive(key) {\n",
              "          const element = document.querySelector('#df-381ac9d1-0c3d-444f-90a1-5da3304f4b41');\n",
              "          const dataTable =\n",
              "            await google.colab.kernel.invokeFunction('convertToInteractive',\n",
              "                                                     [key], {});\n",
              "          if (!dataTable) return;\n",
              "\n",
              "          const docLinkHtml = 'Like what you see? Visit the ' +\n",
              "            '<a target=\"_blank\" href=https://colab.research.google.com/notebooks/data_table.ipynb>data table notebook</a>'\n",
              "            + ' to learn more about interactive tables.';\n",
              "          element.innerHTML = '';\n",
              "          dataTable['output_type'] = 'display_data';\n",
              "          await google.colab.output.renderOutput(dataTable, element);\n",
              "          const docLink = document.createElement('div');\n",
              "          docLink.innerHTML = docLinkHtml;\n",
              "          element.appendChild(docLink);\n",
              "        }\n",
              "      </script>\n",
              "    </div>\n",
              "  </div>\n",
              "  "
            ]
          },
          "metadata": {},
          "execution_count": 12
        }
      ]
    },
    {
      "cell_type": "markdown",
      "metadata": {
        "id": "d286e106"
      },
      "source": [
        "**Observations:**\n",
        "- **Employees leaving the company have a nearly 30% lower average income and 30% lesser work experience than those who are not.** These could be the employees looking to explore new options and/or increase their salary with a company switch. \n",
        "- **Employees showing attrition also tend to live 16% further from the office than those who are not**. The longer commute to and from work could mean they have to spend more time/money every day, amd this could be leading to job dissatisfaction and wanting to leave the organization."
      ],
      "id": "d286e106"
    },
    {
      "cell_type": "markdown",
      "metadata": {
        "id": "df253009"
      },
      "source": [
        "**We have found out what kind of employees are leaving the company more.**\n",
        "\n",
        "### Let's check the relationship between different numerical variables"
      ],
      "id": "df253009"
    },
    {
      "cell_type": "code",
      "metadata": {
        "id": "5da1e8ed",
        "colab": {
          "base_uri": "https://localhost:8080/",
          "height": 618
        },
        "outputId": "ba0707f1-d4dc-4400-f6ee-3e1da23a4e66"
      },
      "source": [
        "#plotting the correation between numerical variables\n",
        "plt.figure(figsize=(15,8))\n",
        "sns.heatmap(employees[num_cols].corr(),annot=True, fmt='0.2f', cmap='YlGnBu')"
      ],
      "id": "5da1e8ed",
      "execution_count": 13,
      "outputs": [
        {
          "output_type": "execute_result",
          "data": {
            "text/plain": [
              "<Axes: >"
            ]
          },
          "metadata": {},
          "execution_count": 13
        },
        {
          "output_type": "display_data",
          "data": {
            "text/plain": [
              "<Figure size 1080x576 with 2 Axes>"
            ],
            "image/png": "[encoded data removed]"
          },
          "metadata": {
            "needs_background": "light"
          }
        }
      ]
    },
    {
      "cell_type": "markdown",
      "metadata": {
        "id": "231d85ef"
      },
      "source": [
        "**Observations:**\n",
        "\n",
        "- **Total work experience, monthly income, years at company and years with current manager are highly correlated with each other and with employee age** which is easy to understand as these variables show an increase with age for most employees. \n",
        "- Years at company and years in current role are correlated with years since last promotion which means that the company is not giving promotions at the right time."
      ],
      "id": "231d85ef"
    },
    {
      "cell_type": "markdown",
      "metadata": {
        "id": "62b1c31c"
      },
      "source": [
        "**Now that we have explored our data. Let's build the model**"
      ],
      "id": "62b1c31c"
    },
    {
      "cell_type": "markdown",
      "metadata": {
        "id": "c87d8b8c"
      },
      "source": [
        "## Model Building - Approach\n",
        "1. Prepare data for modeling\n",
        "2. Partition the data into train and test set.\n",
        "3. Build model on the train data.\n",
        "4. Tune the model if required.\n",
        "5. Test the data on test set."
      ],
      "id": "c87d8b8c"
    },
    {
      "cell_type": "markdown",
      "metadata": {
        "id": "9854fafc"
      },
      "source": [
        "###  Preparing data for modeling"
      ],
      "id": "9854fafc"
    },
    {
      "cell_type": "markdown",
      "metadata": {
        "id": "c73bfd10"
      },
      "source": [
        "**Creating dummy variables for categorical Variables**"
      ],
      "id": "c73bfd10"
    },
    {
      "cell_type": "code",
      "metadata": {
        "id": "10038cc3"
      },
      "source": [
        "#creating list of dummy columns\n",
        "to_get_dummies_for = ['BusinessTravel', 'Department','Education', 'EducationField','EnvironmentSatisfaction', 'Gender',  'JobInvolvement','JobLevel', 'JobRole', 'MaritalStatus' ]\n",
        "\n",
        "#creating dummy variables\n",
        "employees = pd.get_dummies(data = employees, columns= to_get_dummies_for, drop_first= True)      \n",
        "\n",
        "#mapping overtime and attrition\n",
        "dict_OverTime = {'Yes': 1, 'No':0}\n",
        "dict_attrition = {'Yes': 1, 'No': 0}\n",
        "\n",
        "\n",
        "employees['OverTime'] = employees.OverTime.map(dict_OverTime)\n",
        "employees['Attrition'] = employees.Attrition.map(dict_attrition)"
      ],
      "id": "10038cc3",
      "execution_count": 14,
      "outputs": []
    },
    {
      "cell_type": "markdown",
      "metadata": {
        "id": "8cf5d26f"
      },
      "source": [
        "**Separating the independent variables (X) and the dependent variable (Y)**"
      ],
      "id": "8cf5d26f"
    },
    {
      "cell_type": "code",
      "metadata": {
        "id": "76d1cc91"
      },
      "source": [
        "#Separating target variable and other variables\n",
        "Y= employees.Attrition\n",
        "X= employees.drop(columns = ['Attrition'])"
      ],
      "id": "76d1cc91",
      "execution_count": 15,
      "outputs": []
    },
    {
      "cell_type": "markdown",
      "metadata": {
        "id": "c389ff82"
      },
      "source": [
        "### Scaling the data\n",
        "\n",
        "The independent variables in this dataset have different scales. When features have differing scales from each other, there is a chance that a higher weightage will be given to features which have a higher magnitude, and they will dominate over other features whose magnitude changes may be smaller but whose percentage changes may be just as significant or even larger. This will impact the performance of our machine learning algorithm, and we do not want our algorithm to be biased towards one feature. \n",
        "\n",
        "The solution to this issue is **Feature Scaling**, i.e. scaling the dataset so as to give every transformed variable a comparable scale.\n",
        "\n",
        "In this problem, we will use the **Standard Scaler** method, which centers and scales the dataset using the Z-Score.\n",
        "\n",
        "It standardizes features by subtracting the mean and scaling it to have unit variance.\n",
        "\n",
        "The standard score of a sample x is calculated as:\n",
        "\n",
        "**z = (x - u) / s**\n",
        "\n",
        "where **u** is the mean of the training samples (zero) and **s** is the standard deviation of the training samples."
      ],
      "id": "c389ff82"
    },
    {
      "cell_type": "code",
      "metadata": {
        "id": "0e99f9cb"
      },
      "source": [
        "#Scaling the data\n",
        "sc=StandardScaler()\n",
        "X_scaled=sc.fit_transform(X)\n",
        "X_scaled=pd.DataFrame(X_scaled, columns=X.columns)"
      ],
      "id": "0e99f9cb",
      "execution_count": 16,
      "outputs": []
    },
    {
      "cell_type": "markdown",
      "metadata": {
        "id": "0d508522"
      },
      "source": [
        "### Problem 1. Splitting the data into 70% train and 30% test set"
      ],
      "id": "0d508522"
    },
    {
      "cell_type": "markdown",
      "metadata": {
        "id": "d5a7a233"
      },
      "source": [
        "Some classification problems can exhibit a large imbalance in the distribution of the target classes: for instance there could be several times more negative samples than positive samples. In such cases it is recommended to use the **stratified sampling** technique to ensure that relative class frequencies are approximately preserved in each train and validation fold."
      ],
      "id": "d5a7a233"
    },
    {
      "cell_type": "markdown",
      "source": [
        "**1.a.** Complete the code to split the data into 70% training and 30% testing data. Use `stratify=y` to preserve relative class frequencies. "
      ],
      "metadata": {
        "id": "y_XUSomt8nqB"
      },
      "id": "y_XUSomt8nqB"
    },
    {
      "cell_type": "code",
      "metadata": {
        "id": "96bfa6a3"
      },
      "source": [
        "#splitting the data\n",
        "x_train,x_test,y_train,y_test=train_test_split(X_scaled,Y,test_size=0.30,random_state=1,stratify=Y)"
      ],
      "id": "96bfa6a3",
      "execution_count": 17,
      "outputs": []
    },
    {
      "cell_type": "markdown",
      "metadata": {
        "id": "77645a49"
      },
      "source": [
        "### Problem 2. Model evaluation criterion\n",
        "\n",
        "#### The model can make two types of wrong predictions:\n",
        "1. Predicting an employee will attrite when the employee doesn't attrite\n",
        "2. Predicting an employee will not attrite and the employee actually attrites\n",
        "\n",
        "**2.a. What are the consequeces of predicting that the employee will not attrite but the employee attrites?**        \n",
        "-  **The company would be left unprepared to replace that employee, which is an expensive affair considering the cost of training, etc. and it could hamper overall progress and productivity.** \n",
        "\n",
        "**2.b.** \n",
        "**Why would the company want to maximize the Recall of the model?**\n",
        "- **The company would want the Recall to be maximized, the greater the Recall, the higher the chances of minimizing false negatives. Hence, the focus should be on increasing Recall (minimizing the false negatives) or in other words identifying the true positives (i.e. Class 1) very well, so that the company can provide incentives to control attrition rate especially for top-performers. This would help in optimizing the overall project cost towards retaining the best talent.** "
      ],
      "id": "77645a49"
    },
    {
      "cell_type": "markdown",
      "metadata": {
        "id": "67963d69"
      },
      "source": [
        "Also, let's create a function to calculate and print the classification report and confusion matrix so that we don't have to rewrite the same code repeatedly for each model."
      ],
      "id": "67963d69"
    },
    {
      "cell_type": "code",
      "metadata": {
        "id": "7b305008"
      },
      "source": [
        "#creating metric function \n",
        "def metrics_score(actual, predicted):\n",
        "    print(classification_report(actual, predicted))\n",
        "    cm = confusion_matrix(actual, predicted)\n",
        "    plt.figure(figsize=(8,5))\n",
        "    sns.heatmap(cm, annot=True,  fmt='.2f', xticklabels=['Not Attrite', 'Attrite'], yticklabels=['Not Attrite', 'Attrite'])\n",
        "    plt.ylabel('Actual')\n",
        "    plt.xlabel('Predicted')\n",
        "    plt.show()"
      ],
      "id": "7b305008",
      "execution_count": 18,
      "outputs": []
    },
    {
      "cell_type": "markdown",
      "metadata": {
        "id": "1de66d84"
      },
      "source": [
        "### Problem 3. Logistic Regression Model "
      ],
      "id": "1de66d84"
    },
    {
      "cell_type": "markdown",
      "metadata": {
        "id": "2a192a78"
      },
      "source": [
        "- Logistic Regression is a supervised learning algorithm which is used for **binary classification problems** i.e. where the dependent variable is categorical and has only two possible values. In logistic regression, we use the sigmoid function to calculate the probability of an event y, given some features x as:\n",
        "\n",
        "                                          P(y)=1/exp(1 + exp(-x))"
      ],
      "id": "2a192a78"
    },
    {
      "cell_type": "markdown",
      "source": [
        "**3.a.** Instantiate the logistic regression model as `lg`.      \n"
      ],
      "metadata": {
        "id": "6H04-b1V_5KF"
      },
      "id": "6H04-b1V_5KF"
    },
    {
      "cell_type": "code",
      "metadata": {
        "id": "1c3fec96"
      },
      "source": [
        "#fitting logistic regression model\n",
        "# 3.a. Instantiate the model\n",
        "lg=LogisticRegression()"
      ],
      "id": "1c3fec96",
      "execution_count": 20,
      "outputs": []
    },
    {
      "cell_type": "markdown",
      "source": [
        "**3.b.** Fit the model to the training data. "
      ],
      "metadata": {
        "id": "sjlhNB6zXDMy"
      },
      "id": "sjlhNB6zXDMy"
    },
    {
      "cell_type": "code",
      "source": [
        "# 3.b. fit the model to the training data\n",
        "lg.fit(x_train,y_train)"
      ],
      "metadata": {
        "id": "IbUEWDqAXALH",
        "colab": {
          "base_uri": "https://localhost:8080/",
          "height": 51
        },
        "outputId": "06467223-aad0-4658-f4a6-cea2a3c99811"
      },
      "id": "IbUEWDqAXALH",
      "execution_count": 22,
      "outputs": [
        {
          "output_type": "execute_result",
          "data": {
            "text/plain": [
              "LogisticRegression()"
            ],
            "text/html": [
              "<style>#sk-container-id-2 {color: black;background-color: white;}#sk-container-id-2 pre{padding: 0;}#sk-container-id-2 div.sk-toggleable {background-color: white;}#sk-container-id-2 label.sk-toggleable__label {cursor: pointer;display: block;width: 100%;margin-bottom: 0;padding: 0.3em;box-sizing: border-box;text-align: center;}#sk-container-id-2 label.sk-toggleable__label-arrow:before {content: \"▸\";float: left;margin-right: 0.25em;color: #696969;}#sk-container-id-2 label.sk-toggleable__label-arrow:hover:before {color: black;}#sk-container-id-2 div.sk-estimator:hover label.sk-toggleable__label-arrow:before {color: black;}#sk-container-id-2 div.sk-toggleable__content {max-height: 0;max-width: 0;overflow: hidden;text-align: left;background-color: #f0f8ff;}#sk-container-id-2 div.sk-toggleable__content pre {margin: 0.2em;color: black;border-radius: 0.25em;background-color: #f0f8ff;}#sk-container-id-2 input.sk-toggleable__control:checked~div.sk-toggleable__content {max-height: 200px;max-width: 100%;overflow: auto;}#sk-container-id-2 input.sk-toggleable__control:checked~label.sk-toggleable__label-arrow:before {content: \"▾\";}#sk-container-id-2 div.sk-estimator input.sk-toggleable__control:checked~label.sk-toggleable__label {background-color: #d4ebff;}#sk-container-id-2 div.sk-label input.sk-toggleable__control:checked~label.sk-toggleable__label {background-color: #d4ebff;}#sk-container-id-2 input.sk-hidden--visually {border: 0;clip: rect(1px 1px 1px 1px);clip: rect(1px, 1px, 1px, 1px);height: 1px;margin: -1px;overflow: hidden;padding: 0;position: absolute;width: 1px;}#sk-container-id-2 div.sk-estimator {font-family: monospace;background-color: #f0f8ff;border: 1px dotted black;border-radius: 0.25em;box-sizing: border-box;margin-bottom: 0.5em;}#sk-container-id-2 div.sk-estimator:hover {background-color: #d4ebff;}#sk-container-id-2 div.sk-parallel-item::after {content: \"\";width: 100%;border-bottom: 1px solid gray;flex-grow: 1;}#sk-container-id-2 div.sk-label:hover label.sk-toggleable__label {background-color: #d4ebff;}#sk-container-id-2 div.sk-serial::before {content: \"\";position: absolute;border-left: 1px solid gray;box-sizing: border-box;top: 0;bottom: 0;left: 50%;z-index: 0;}#sk-container-id-2 div.sk-serial {display: flex;flex-direction: column;align-items: center;background-color: white;padding-right: 0.2em;padding-left: 0.2em;position: relative;}#sk-container-id-2 div.sk-item {position: relative;z-index: 1;}#sk-container-id-2 div.sk-parallel {display: flex;align-items: stretch;justify-content: center;background-color: white;position: relative;}#sk-container-id-2 div.sk-item::before, #sk-container-id-2 div.sk-parallel-item::before {content: \"\";position: absolute;border-left: 1px solid gray;box-sizing: border-box;top: 0;bottom: 0;left: 50%;z-index: -1;}#sk-container-id-2 div.sk-parallel-item {display: flex;flex-direction: column;z-index: 1;position: relative;background-color: white;}#sk-container-id-2 div.sk-parallel-item:first-child::after {align-self: flex-end;width: 50%;}#sk-container-id-2 div.sk-parallel-item:last-child::after {align-self: flex-start;width: 50%;}#sk-container-id-2 div.sk-parallel-item:only-child::after {width: 0;}#sk-container-id-2 div.sk-dashed-wrapped {border: 1px dashed gray;margin: 0 0.4em 0.5em 0.4em;box-sizing: border-box;padding-bottom: 0.4em;background-color: white;}#sk-container-id-2 div.sk-label label {font-family: monospace;font-weight: bold;display: inline-block;line-height: 1.2em;}#sk-container-id-2 div.sk-label-container {text-align: center;}#sk-container-id-2 div.sk-container {/* jupyter's `normalize.less` sets `[hidden] { display: none; }` but bootstrap.min.css set `[hidden] { display: none !important; }` so we also need the `!important` here to be able to override the default hidden behavior on the sphinx rendered scikit-learn.org. See: https://github.com/scikit-learn/scikit-learn/issues/21755 */display: inline-block !important;position: relative;}#sk-container-id-2 div.sk-text-repr-fallback {display: none;}</style><div id=\"sk-container-id-2\" class=\"sk-top-container\"><div class=\"sk-text-repr-fallback\"><pre>LogisticRegression()</pre><b>In a Jupyter environment, please rerun this cell to show the HTML representation or trust the notebook. <br />On GitHub, the HTML representation is unable to render, please try loading this page with nbviewer.org.</b></div><div class=\"sk-container\" hidden><div class=\"sk-item\"><div class=\"sk-estimator sk-toggleable\"><input class=\"sk-toggleable__control sk-hidden--visually\" id=\"sk-estimator-id-2\" type=\"checkbox\" checked><label for=\"sk-estimator-id-2\" class=\"sk-toggleable__label sk-toggleable__label-arrow\">LogisticRegression</label><div class=\"sk-toggleable__content\"><pre>LogisticRegression()</pre></div></div></div></div></div>"
            ]
          },
          "metadata": {},
          "execution_count": 22
        }
      ]
    },
    {
      "cell_type": "markdown",
      "metadata": {
        "id": "f45ec38a"
      },
      "source": [
        "\n",
        "**3.c. Checking model performance (train)**  \n",
        " Check the model performance on the training data. Use the `metrics_score` function built above. "
      ],
      "id": "f45ec38a"
    },
    {
      "cell_type": "code",
      "metadata": {
        "id": "9a3062aa",
        "colab": {
          "base_uri": "https://localhost:8080/",
          "height": 490
        },
        "outputId": "a5a241a7-a326-4917-d22b-e05ab898406f"
      },
      "source": [
        "# 3.c. checking the performance on the training data\n",
        "y_pred_train = lg.predict(x_train)\n",
        "metrics_score(y_train, y_pred_train)"
      ],
      "id": "9a3062aa",
      "execution_count": 23,
      "outputs": [
        {
          "output_type": "stream",
          "name": "stdout",
          "text": [
            "              precision    recall  f1-score   support\n",
            "\n",
            "           0       0.91      0.98      0.94      1726\n",
            "           1       0.81      0.50      0.62       332\n",
            "\n",
            "    accuracy                           0.90      2058\n",
            "   macro avg       0.86      0.74      0.78      2058\n",
            "weighted avg       0.89      0.90      0.89      2058\n",
            "\n"
          ]
        },
        {
          "output_type": "display_data",
          "data": {
            "text/plain": [
              "<Figure size 576x360 with 2 Axes>"
            ],
            "image/png": "[encoded data removed]"
          },
          "metadata": {
            "needs_background": "light"
          }
        }
      ]
    },
    {
      "cell_type": "markdown",
      "source": [
        "\n",
        "**3.d. Checking model performance (test)**     \n",
        "Check the model performance on the testing data. Use the `metrics_score` function built above. "
      ],
      "metadata": {
        "id": "3_GjmDJNBOo_"
      },
      "id": "3_GjmDJNBOo_"
    },
    {
      "cell_type": "code",
      "metadata": {
        "id": "218089fd",
        "colab": {
          "base_uri": "https://localhost:8080/",
          "height": 490
        },
        "outputId": "fe35ae72-9bad-43d8-a37a-5e545b5c0a39"
      },
      "source": [
        "# 3.d. checking the performance on the test dataset\n",
        "y_pred_test = lg.predict(x_test)\n",
        "metrics_score(y_test, y_pred_test)"
      ],
      "id": "218089fd",
      "execution_count": 24,
      "outputs": [
        {
          "output_type": "stream",
          "name": "stdout",
          "text": [
            "              precision    recall  f1-score   support\n",
            "\n",
            "           0       0.90      0.97      0.94       740\n",
            "           1       0.76      0.46      0.58       142\n",
            "\n",
            "    accuracy                           0.89       882\n",
            "   macro avg       0.83      0.72      0.76       882\n",
            "weighted avg       0.88      0.89      0.88       882\n",
            "\n"
          ]
        },
        {
          "output_type": "display_data",
          "data": {
            "text/plain": [
              "<Figure size 576x360 with 2 Axes>"
            ],
            "image/png": "[encoded data removed]"
          },
          "metadata": {
            "needs_background": "light"
          }
        }
      ]
    },
    {
      "cell_type": "markdown",
      "metadata": {
        "id": "382c8e52"
      },
      "source": [
        "**3.e. Share 3 to 4 observations based on the metrics generated above.**\n",
        "\n",
        "**Observations:**\n",
        "The model is performing well in terms of accuracy.\n",
        "The recall for class 1 is quite low (54%), which implies that this model will not perform well in differentiating out the employees who have a high chance of leaving the company, and hence this model would not help reduce the attrition rate.\n",
        "\n",
        "The model also has a somewhat low precision (69%). A precision of ~0.70 suggests that there is a 30% (1 - 0.70) chance that the model will predict that a person is going to leave even though he/she would not, and the company would waste their time and energy on these employees who are not at risk of attrition.\n"
      ],
      "id": "382c8e52"
    },
    {
      "cell_type": "markdown",
      "metadata": {
        "id": "dc744c23"
      },
      "source": [
        "**Let's check the coefficients and find which variables are leading to attrition and which can help to reduce the attrition**"
      ],
      "id": "dc744c23"
    },
    {
      "cell_type": "code",
      "metadata": {
        "id": "82beae47",
        "colab": {
          "base_uri": "https://localhost:8080/",
          "height": 1000
        },
        "outputId": "d5c5bf80-84ca-49bd-eeff-0894bee8bec4"
      },
      "source": [
        "#printing the coefficients of logistic regression\n",
        "cols=X.columns\n",
        "\n",
        "coef_lg=lg.coef_\n",
        "\n",
        "pd.DataFrame(coef_lg,columns=cols).T.sort_values(by=0,ascending=False)"
      ],
      "id": "82beae47",
      "execution_count": 25,
      "outputs": [
        {
          "output_type": "execute_result",
          "data": {
            "text/plain": [
              "                                          0\n",
              "OverTime                           0.958034\n",
              "BusinessTravel_Travel_Frequently   0.716046\n",
              "MaritalStatus_Single               0.618145\n",
              "YearsSinceLastPromotion            0.552935\n",
              "YearsAtCompany                     0.523238\n",
              "NumCompaniesWorked                 0.501137\n",
              "Department_Sales                   0.483346\n",
              "Department_Research & Development  0.482820\n",
              "BusinessTravel_Travel_Rarely       0.441384\n",
              "DistanceFromHome                   0.384346\n",
              "JobRole_Sales Executive            0.383153\n",
              "MaritalStatus_Married              0.288340\n",
              "JobRole_Human Resources            0.282114\n",
              "JobLevel_5                         0.269649\n",
              "JobRole_Laboratory Technician      0.177910\n",
              "JobRole_Sales Representative       0.173305\n",
              "Gender_Male                        0.165803\n",
              "Education_3                        0.158748\n",
              "Education_2                        0.131061\n",
              "Education_4                        0.113254\n",
              "JobRole_Manufacturing Director     0.112275\n",
              "Education_5                        0.092054\n",
              "EducationField_Technical Degree    0.083282\n",
              "MonthlyRate                        0.059920\n",
              "HourlyRate                         0.048010\n",
              "JobLevel_3                         0.007039\n",
              "EducationField_Marketing          -0.013725\n",
              "JobRole_Manager                   -0.032051\n",
              "PerformanceRating                 -0.032545\n",
              "PercentSalaryHike                 -0.074595\n",
              "DailyRate                         -0.095750\n",
              "StockOptionLevel                  -0.107451\n",
              "EducationField_Other              -0.138263\n",
              "JobLevel_4                        -0.161223\n",
              "WorkLifeBalance                   -0.212611\n",
              "JobRole_Research Scientist        -0.233311\n",
              "TrainingTimesLastYear             -0.240552\n",
              "Age                               -0.275176\n",
              "RelationshipSatisfaction          -0.312201\n",
              "EducationField_Life Sciences      -0.319031\n",
              "EducationField_Medical            -0.354189\n",
              "JobRole_Research Director         -0.359223\n",
              "JobSatisfaction                   -0.373627\n",
              "YearsWithCurrManager              -0.382881\n",
              "YearsInCurrentRole                -0.438966\n",
              "EnvironmentSatisfaction_2         -0.444969\n",
              "JobInvolvement_2                  -0.485360\n",
              "TotalWorkingYears                 -0.497228\n",
              "EnvironmentSatisfaction_3         -0.501917\n",
              "MonthlyIncome                     -0.599868\n",
              "JobInvolvement_4                  -0.641244\n",
              "EnvironmentSatisfaction_4         -0.651612\n",
              "JobLevel_2                        -0.714008\n",
              "JobInvolvement_3                  -0.750455"
            ],
            "text/html": [
              "\n",
              "  <div id=\"df-8f73ccf1-0cb1-43d9-b2d2-416980bd4b19\">\n",
              "    <div class=\"colab-df-container\">\n",
              "      <div>\n",
              "<style scoped>\n",
              "    .dataframe tbody tr th:only-of-type {\n",
              "        vertical-align: middle;\n",
              "    }\n",
              "\n",
              "    .dataframe tbody tr th {\n",
              "        vertical-align: top;\n",
              "    }\n",
              "\n",
              "    .dataframe thead th {\n",
              "        text-align: right;\n",
              "    }\n",
              "</style>\n",
              "<table border=\"1\" class=\"dataframe\">\n",
              "  <thead>\n",
              "    <tr style=\"text-align: right;\">\n",
              "      <th></th>\n",
              "      <th>0</th>\n",
              "    </tr>\n",
              "  </thead>\n",
              "  <tbody>\n",
              "    <tr>\n",
              "      <th>OverTime</th>\n",
              "      <td>0.958034</td>\n",
              "    </tr>\n",
              "    <tr>\n",
              "      <th>BusinessTravel_Travel_Frequently</th>\n",
              "      <td>0.716046</td>\n",
              "    </tr>\n",
              "    <tr>\n",
              "      <th>MaritalStatus_Single</th>\n",
              "      <td>0.618145</td>\n",
              "    </tr>\n",
              "    <tr>\n",
              "      <th>YearsSinceLastPromotion</th>\n",
              "      <td>0.552935</td>\n",
              "    </tr>\n",
              "    <tr>\n",
              "      <th>YearsAtCompany</th>\n",
              "      <td>0.523238</td>\n",
              "    </tr>\n",
              "    <tr>\n",
              "      <th>NumCompaniesWorked</th>\n",
              "      <td>0.501137</td>\n",
              "    </tr>\n",
              "    <tr>\n",
              "      <th>Department_Sales</th>\n",
              "      <td>0.483346</td>\n",
              "    </tr>\n",
              "    <tr>\n",
              "      <th>Department_Research &amp; Development</th>\n",
              "      <td>0.482820</td>\n",
              "    </tr>\n",
              "    <tr>\n",
              "      <th>BusinessTravel_Travel_Rarely</th>\n",
              "      <td>0.441384</td>\n",
              "    </tr>\n",
              "    <tr>\n",
              "      <th>DistanceFromHome</th>\n",
              "      <td>0.384346</td>\n",
              "    </tr>\n",
              "    <tr>\n",
              "      <th>JobRole_Sales Executive</th>\n",
              "      <td>0.383153</td>\n",
              "    </tr>\n",
              "    <tr>\n",
              "      <th>MaritalStatus_Married</th>\n",
              "      <td>0.288340</td>\n",
              "    </tr>\n",
              "    <tr>\n",
              "      <th>JobRole_Human Resources</th>\n",
              "      <td>0.282114</td>\n",
              "    </tr>\n",
              "    <tr>\n",
              "      <th>JobLevel_5</th>\n",
              "      <td>0.269649</td>\n",
              "    </tr>\n",
              "    <tr>\n",
              "      <th>JobRole_Laboratory Technician</th>\n",
              "      <td>0.177910</td>\n",
              "    </tr>\n",
              "    <tr>\n",
              "      <th>JobRole_Sales Representative</th>\n",
              "      <td>0.173305</td>\n",
              "    </tr>\n",
              "    <tr>\n",
              "      <th>Gender_Male</th>\n",
              "      <td>0.165803</td>\n",
              "    </tr>\n",
              "    <tr>\n",
              "      <th>Education_3</th>\n",
              "      <td>0.158748</td>\n",
              "    </tr>\n",
              "    <tr>\n",
              "      <th>Education_2</th>\n",
              "      <td>0.131061</td>\n",
              "    </tr>\n",
              "    <tr>\n",
              "      <th>Education_4</th>\n",
              "      <td>0.113254</td>\n",
              "    </tr>\n",
              "    <tr>\n",
              "      <th>JobRole_Manufacturing Director</th>\n",
              "      <td>0.112275</td>\n",
              "    </tr>\n",
              "    <tr>\n",
              "      <th>Education_5</th>\n",
              "      <td>0.092054</td>\n",
              "    </tr>\n",
              "    <tr>\n",
              "      <th>EducationField_Technical Degree</th>\n",
              "      <td>0.083282</td>\n",
              "    </tr>\n",
              "    <tr>\n",
              "      <th>MonthlyRate</th>\n",
              "      <td>0.059920</td>\n",
              "    </tr>\n",
              "    <tr>\n",
              "      <th>HourlyRate</th>\n",
              "      <td>0.048010</td>\n",
              "    </tr>\n",
              "    <tr>\n",
              "      <th>JobLevel_3</th>\n",
              "      <td>0.007039</td>\n",
              "    </tr>\n",
              "    <tr>\n",
              "      <th>EducationField_Marketing</th>\n",
              "      <td>-0.013725</td>\n",
              "    </tr>\n",
              "    <tr>\n",
              "      <th>JobRole_Manager</th>\n",
              "      <td>-0.032051</td>\n",
              "    </tr>\n",
              "    <tr>\n",
              "      <th>PerformanceRating</th>\n",
              "      <td>-0.032545</td>\n",
              "    </tr>\n",
              "    <tr>\n",
              "      <th>PercentSalaryHike</th>\n",
              "      <td>-0.074595</td>\n",
              "    </tr>\n",
              "    <tr>\n",
              "      <th>DailyRate</th>\n",
              "      <td>-0.095750</td>\n",
              "    </tr>\n",
              "    <tr>\n",
              "      <th>StockOptionLevel</th>\n",
              "      <td>-0.107451</td>\n",
              "    </tr>\n",
              "    <tr>\n",
              "      <th>EducationField_Other</th>\n",
              "      <td>-0.138263</td>\n",
              "    </tr>\n",
              "    <tr>\n",
              "      <th>JobLevel_4</th>\n",
              "      <td>-0.161223</td>\n",
              "    </tr>\n",
              "    <tr>\n",
              "      <th>WorkLifeBalance</th>\n",
              "      <td>-0.212611</td>\n",
              "    </tr>\n",
              "    <tr>\n",
              "      <th>JobRole_Research Scientist</th>\n",
              "      <td>-0.233311</td>\n",
              "    </tr>\n",
              "    <tr>\n",
              "      <th>TrainingTimesLastYear</th>\n",
              "      <td>-0.240552</td>\n",
              "    </tr>\n",
              "    <tr>\n",
              "      <th>Age</th>\n",
              "      <td>-0.275176</td>\n",
              "    </tr>\n",
              "    <tr>\n",
              "      <th>RelationshipSatisfaction</th>\n",
              "      <td>-0.312201</td>\n",
              "    </tr>\n",
              "    <tr>\n",
              "      <th>EducationField_Life Sciences</th>\n",
              "      <td>-0.319031</td>\n",
              "    </tr>\n",
              "    <tr>\n",
              "      <th>EducationField_Medical</th>\n",
              "      <td>-0.354189</td>\n",
              "    </tr>\n",
              "    <tr>\n",
              "      <th>JobRole_Research Director</th>\n",
              "      <td>-0.359223</td>\n",
              "    </tr>\n",
              "    <tr>\n",
              "      <th>JobSatisfaction</th>\n",
              "      <td>-0.373627</td>\n",
              "    </tr>\n",
              "    <tr>\n",
              "      <th>YearsWithCurrManager</th>\n",
              "      <td>-0.382881</td>\n",
              "    </tr>\n",
              "    <tr>\n",
              "      <th>YearsInCurrentRole</th>\n",
              "      <td>-0.438966</td>\n",
              "    </tr>\n",
              "    <tr>\n",
              "      <th>EnvironmentSatisfaction_2</th>\n",
              "      <td>-0.444969</td>\n",
              "    </tr>\n",
              "    <tr>\n",
              "      <th>JobInvolvement_2</th>\n",
              "      <td>-0.485360</td>\n",
              "    </tr>\n",
              "    <tr>\n",
              "      <th>TotalWorkingYears</th>\n",
              "      <td>-0.497228</td>\n",
              "    </tr>\n",
              "    <tr>\n",
              "      <th>EnvironmentSatisfaction_3</th>\n",
              "      <td>-0.501917</td>\n",
              "    </tr>\n",
              "    <tr>\n",
              "      <th>MonthlyIncome</th>\n",
              "      <td>-0.599868</td>\n",
              "    </tr>\n",
              "    <tr>\n",
              "      <th>JobInvolvement_4</th>\n",
              "      <td>-0.641244</td>\n",
              "    </tr>\n",
              "    <tr>\n",
              "      <th>EnvironmentSatisfaction_4</th>\n",
              "      <td>-0.651612</td>\n",
              "    </tr>\n",
              "    <tr>\n",
              "      <th>JobLevel_2</th>\n",
              "      <td>-0.714008</td>\n",
              "    </tr>\n",
              "    <tr>\n",
              "      <th>JobInvolvement_3</th>\n",
              "      <td>-0.750455</td>\n",
              "    </tr>\n",
              "  </tbody>\n",
              "</table>\n",
              "</div>\n",
              "      <button class=\"colab-df-convert\" onclick=\"convertToInteractive('df-8f73ccf1-0cb1-43d9-b2d2-416980bd4b19')\"\n",
              "              title=\"Convert this dataframe to an interactive table.\"\n",
              "              style=\"display:none;\">\n",
              "        \n",
              "  <svg xmlns=\"http://www.w3.org/2000/svg\" height=\"24px\"viewBox=\"0 0 24 24\"\n",
              "       width=\"24px\">\n",
              "    <path d=\"M0 0h24v24H0V0z\" fill=\"none\"/>\n",
              "    <path d=\"M18.56 5.44l.94 2.06.94-2.06 2.06-.94-2.06-.94-.94-2.06-.94 2.06-2.06.94zm-11 1L8.5 8.5l.94-2.06 2.06-.94-2.06-.94L8.5 2.5l-.94 2.06-2.06.94zm10 10l.94 2.06.94-2.06 2.06-.94-2.06-.94-.94-2.06-.94 2.06-2.06.94z\"/><path d=\"M17.41 7.96l-1.37-1.37c-.4-.4-.92-.59-1.43-.59-.52 0-1.04.2-1.43.59L10.3 9.45l-7.72 7.72c-.78.78-.78 2.05 0 2.83L4 21.41c.39.39.9.59 1.41.59.51 0 1.02-.2 1.41-.59l7.78-7.78 2.81-2.81c.8-.78.8-2.07 0-2.86zM5.41 20L4 18.59l7.72-7.72 1.47 1.35L5.41 20z\"/>\n",
              "  </svg>\n",
              "      </button>\n",
              "      \n",
              "  <style>\n",
              "    .colab-df-container {\n",
              "      display:flex;\n",
              "      flex-wrap:wrap;\n",
              "      gap: 12px;\n",
              "    }\n",
              "\n",
              "    .colab-df-convert {\n",
              "      background-color: #E8F0FE;\n",
              "      border: none;\n",
              "      border-radius: 50%;\n",
              "      cursor: pointer;\n",
              "      display: none;\n",
              "      fill: #1967D2;\n",
              "      height: 32px;\n",
              "      padding: 0 0 0 0;\n",
              "      width: 32px;\n",
              "    }\n",
              "\n",
              "    .colab-df-convert:hover {\n",
              "      background-color: #E2EBFA;\n",
              "      box-shadow: 0px 1px 2px rgba(60, 64, 67, 0.3), 0px 1px 3px 1px rgba(60, 64, 67, 0.15);\n",
              "      fill: #174EA6;\n",
              "    }\n",
              "\n",
              "    [theme=dark] .colab-df-convert {\n",
              "      background-color: #3B4455;\n",
              "      fill: #D2E3FC;\n",
              "    }\n",
              "\n",
              "    [theme=dark] .colab-df-convert:hover {\n",
              "      background-color: #434B5C;\n",
              "      box-shadow: 0px 1px 3px 1px rgba(0, 0, 0, 0.15);\n",
              "      filter: drop-shadow(0px 1px 2px rgba(0, 0, 0, 0.3));\n",
              "      fill: #FFFFFF;\n",
              "    }\n",
              "  </style>\n",
              "\n",
              "      <script>\n",
              "        const buttonEl =\n",
              "          document.querySelector('#df-8f73ccf1-0cb1-43d9-b2d2-416980bd4b19 button.colab-df-convert');\n",
              "        buttonEl.style.display =\n",
              "          google.colab.kernel.accessAllowed ? 'block' : 'none';\n",
              "\n",
              "        async function convertToInteractive(key) {\n",
              "          const element = document.querySelector('#df-8f73ccf1-0cb1-43d9-b2d2-416980bd4b19');\n",
              "          const dataTable =\n",
              "            await google.colab.kernel.invokeFunction('convertToInteractive',\n",
              "                                                     [key], {});\n",
              "          if (!dataTable) return;\n",
              "\n",
              "          const docLinkHtml = 'Like what you see? Visit the ' +\n",
              "            '<a target=\"_blank\" href=https://colab.research.google.com/notebooks/data_table.ipynb>data table notebook</a>'\n",
              "            + ' to learn more about interactive tables.';\n",
              "          element.innerHTML = '';\n",
              "          dataTable['output_type'] = 'display_data';\n",
              "          await google.colab.output.renderOutput(dataTable, element);\n",
              "          const docLink = document.createElement('div');\n",
              "          docLink.innerHTML = docLinkHtml;\n",
              "          element.appendChild(docLink);\n",
              "        }\n",
              "      </script>\n",
              "    </div>\n",
              "  </div>\n",
              "  "
            ]
          },
          "metadata": {},
          "execution_count": 25
        }
      ]
    },
    {
      "cell_type": "markdown",
      "metadata": {
        "id": "163545b6"
      },
      "source": [
        "**Observations:**\n",
        "\n",
        "\n",
        "**Features which string positive affect on the attrition rate are:**\n",
        "- OverTime\t\n",
        "- BusinessTravel_Travel_Frequently\t\n",
        "- Department_Research & Development\t\n",
        "- JobRole_Sales Executive\t\n",
        "- MaritalStatus_Single\t\n",
        "- Department_Sales\t\n",
        "- NumCompaniesWorked\t\n",
        "- YearsSinceLastPromotion\n",
        "- JobLevel_5\t\n",
        "- BusinessTravel_Travel_Rarely\n",
        "- DistanceFromHome\n",
        "- YearsAtCompany\t\n",
        "- JobRole_Human Resources\t\n",
        "- JobRole_Sales Representative\n",
        "\n",
        "**Features which string negative affect on the attrition rate are:**\n",
        "- MonthlyIncome\t\n",
        "- JobInvolvement_3\t\n",
        "- JobLevel_2\t\n",
        "- EnvironmentSatisfaction_4\t\n",
        "- JobInvolvement_4\t\n",
        "- JobInvolvement_2\t\n",
        "- EnvironmentSatisfaction_3\t\n",
        "- EducationField_Life Sciences\t\n",
        "- EnvironmentSatisfaction_2\t\n",
        "- YearsWithCurrManager\t\n",
        "- JobRole_Research Director\t\n",
        "- TotalWorkingYears\t\n",
        "- JobSatisfaction\t\n",
        "\n",
        "**The features identified as important are similar for both the Tree model and the logistic regression model. Notice that we are able to see a bit more detail in the logistic regression results with the + and - contributions.**"
      ],
      "id": "163545b6"
    },
    {
      "cell_type": "markdown",
      "metadata": {
        "id": "4291d05e"
      },
      "source": [
        "The coefficients of the logistic regression model give us the log of odds, which is hard to interpret in the real world. We can convert the log of odds into real odds by taking its exponential."
      ],
      "id": "4291d05e"
    },
    {
      "cell_type": "code",
      "metadata": {
        "id": "9d48313b",
        "colab": {
          "base_uri": "https://localhost:8080/",
          "height": 1000
        },
        "outputId": "8ee60508-01b7-42fa-a630-b2f137011283"
      },
      "source": [
        "odds = np.exp(lg.coef_[0]) #finding the odds\n",
        "\n",
        "# adding the odds to a dataframe and sorting the values\n",
        "pd.DataFrame(odds, x_train.columns, columns=['odds']).sort_values(by='odds', ascending=False) "
      ],
      "id": "9d48313b",
      "execution_count": 26,
      "outputs": [
        {
          "output_type": "execute_result",
          "data": {
            "text/plain": [
              "                                       odds\n",
              "OverTime                           2.606567\n",
              "BusinessTravel_Travel_Frequently   2.046326\n",
              "MaritalStatus_Single               1.855483\n",
              "YearsSinceLastPromotion            1.738348\n",
              "YearsAtCompany                     1.687483\n",
              "NumCompaniesWorked                 1.650597\n",
              "Department_Sales                   1.621491\n",
              "Department_Research & Development  1.620638\n",
              "BusinessTravel_Travel_Rarely       1.554858\n",
              "DistanceFromHome                   1.468653\n",
              "JobRole_Sales Executive            1.466903\n",
              "MaritalStatus_Married              1.334210\n",
              "JobRole_Human Resources            1.325929\n",
              "JobLevel_5                         1.309504\n",
              "JobRole_Laboratory Technician      1.194718\n",
              "JobRole_Sales Representative       1.189229\n",
              "Gender_Male                        1.180341\n",
              "Education_3                        1.172042\n",
              "Education_2                        1.140037\n",
              "Education_4                        1.119916\n",
              "JobRole_Manufacturing Director     1.118820\n",
              "Education_5                        1.096424\n",
              "EducationField_Technical Degree    1.086849\n",
              "MonthlyRate                        1.061752\n",
              "HourlyRate                         1.049181\n",
              "JobLevel_3                         1.007064\n",
              "EducationField_Marketing           0.986369\n",
              "JobRole_Manager                    0.968457\n",
              "PerformanceRating                  0.967979\n",
              "PercentSalaryHike                  0.928119\n",
              "DailyRate                          0.908691\n",
              "StockOptionLevel                   0.898120\n",
              "EducationField_Other               0.870870\n",
              "JobLevel_4                         0.851102\n",
              "WorkLifeBalance                    0.808470\n",
              "JobRole_Research Scientist         0.791907\n",
              "TrainingTimesLastYear              0.786194\n",
              "Age                                0.759438\n",
              "RelationshipSatisfaction           0.731835\n",
              "EducationField_Life Sciences       0.726853\n",
              "EducationField_Medical             0.701742\n",
              "JobRole_Research Director          0.698219\n",
              "JobSatisfaction                    0.688234\n",
              "YearsWithCurrManager               0.681894\n",
              "YearsInCurrentRole                 0.644703\n",
              "EnvironmentSatisfaction_2          0.640844\n",
              "JobInvolvement_2                   0.615475\n",
              "TotalWorkingYears                  0.608214\n",
              "EnvironmentSatisfaction_3          0.605369\n",
              "MonthlyIncome                      0.548884\n",
              "JobInvolvement_4                   0.526637\n",
              "EnvironmentSatisfaction_4          0.521205\n",
              "JobLevel_2                         0.489678\n",
              "JobInvolvement_3                   0.472151"
            ],
            "text/html": [
              "\n",
              "  <div id=\"df-9ab46a00-fc66-4665-965a-268a14ad057e\">\n",
              "    <div class=\"colab-df-container\">\n",
              "      <div>\n",
              "<style scoped>\n",
              "    .dataframe tbody tr th:only-of-type {\n",
              "        vertical-align: middle;\n",
              "    }\n",
              "\n",
              "    .dataframe tbody tr th {\n",
              "        vertical-align: top;\n",
              "    }\n",
              "\n",
              "    .dataframe thead th {\n",
              "        text-align: right;\n",
              "    }\n",
              "</style>\n",
              "<table border=\"1\" class=\"dataframe\">\n",
              "  <thead>\n",
              "    <tr style=\"text-align: right;\">\n",
              "      <th></th>\n",
              "      <th>odds</th>\n",
              "    </tr>\n",
              "  </thead>\n",
              "  <tbody>\n",
              "    <tr>\n",
              "      <th>OverTime</th>\n",
              "      <td>2.606567</td>\n",
              "    </tr>\n",
              "    <tr>\n",
              "      <th>BusinessTravel_Travel_Frequently</th>\n",
              "      <td>2.046326</td>\n",
              "    </tr>\n",
              "    <tr>\n",
              "      <th>MaritalStatus_Single</th>\n",
              "      <td>1.855483</td>\n",
              "    </tr>\n",
              "    <tr>\n",
              "      <th>YearsSinceLastPromotion</th>\n",
              "      <td>1.738348</td>\n",
              "    </tr>\n",
              "    <tr>\n",
              "      <th>YearsAtCompany</th>\n",
              "      <td>1.687483</td>\n",
              "    </tr>\n",
              "    <tr>\n",
              "      <th>NumCompaniesWorked</th>\n",
              "      <td>1.650597</td>\n",
              "    </tr>\n",
              "    <tr>\n",
              "      <th>Department_Sales</th>\n",
              "      <td>1.621491</td>\n",
              "    </tr>\n",
              "    <tr>\n",
              "      <th>Department_Research &amp; Development</th>\n",
              "      <td>1.620638</td>\n",
              "    </tr>\n",
              "    <tr>\n",
              "      <th>BusinessTravel_Travel_Rarely</th>\n",
              "      <td>1.554858</td>\n",
              "    </tr>\n",
              "    <tr>\n",
              "      <th>DistanceFromHome</th>\n",
              "      <td>1.468653</td>\n",
              "    </tr>\n",
              "    <tr>\n",
              "      <th>JobRole_Sales Executive</th>\n",
              "      <td>1.466903</td>\n",
              "    </tr>\n",
              "    <tr>\n",
              "      <th>MaritalStatus_Married</th>\n",
              "      <td>1.334210</td>\n",
              "    </tr>\n",
              "    <tr>\n",
              "      <th>JobRole_Human Resources</th>\n",
              "      <td>1.325929</td>\n",
              "    </tr>\n",
              "    <tr>\n",
              "      <th>JobLevel_5</th>\n",
              "      <td>1.309504</td>\n",
              "    </tr>\n",
              "    <tr>\n",
              "      <th>JobRole_Laboratory Technician</th>\n",
              "      <td>1.194718</td>\n",
              "    </tr>\n",
              "    <tr>\n",
              "      <th>JobRole_Sales Representative</th>\n",
              "      <td>1.189229</td>\n",
              "    </tr>\n",
              "    <tr>\n",
              "      <th>Gender_Male</th>\n",
              "      <td>1.180341</td>\n",
              "    </tr>\n",
              "    <tr>\n",
              "      <th>Education_3</th>\n",
              "      <td>1.172042</td>\n",
              "    </tr>\n",
              "    <tr>\n",
              "      <th>Education_2</th>\n",
              "      <td>1.140037</td>\n",
              "    </tr>\n",
              "    <tr>\n",
              "      <th>Education_4</th>\n",
              "      <td>1.119916</td>\n",
              "    </tr>\n",
              "    <tr>\n",
              "      <th>JobRole_Manufacturing Director</th>\n",
              "      <td>1.118820</td>\n",
              "    </tr>\n",
              "    <tr>\n",
              "      <th>Education_5</th>\n",
              "      <td>1.096424</td>\n",
              "    </tr>\n",
              "    <tr>\n",
              "      <th>EducationField_Technical Degree</th>\n",
              "      <td>1.086849</td>\n",
              "    </tr>\n",
              "    <tr>\n",
              "      <th>MonthlyRate</th>\n",
              "      <td>1.061752</td>\n",
              "    </tr>\n",
              "    <tr>\n",
              "      <th>HourlyRate</th>\n",
              "      <td>1.049181</td>\n",
              "    </tr>\n",
              "    <tr>\n",
              "      <th>JobLevel_3</th>\n",
              "      <td>1.007064</td>\n",
              "    </tr>\n",
              "    <tr>\n",
              "      <th>EducationField_Marketing</th>\n",
              "      <td>0.986369</td>\n",
              "    </tr>\n",
              "    <tr>\n",
              "      <th>JobRole_Manager</th>\n",
              "      <td>0.968457</td>\n",
              "    </tr>\n",
              "    <tr>\n",
              "      <th>PerformanceRating</th>\n",
              "      <td>0.967979</td>\n",
              "    </tr>\n",
              "    <tr>\n",
              "      <th>PercentSalaryHike</th>\n",
              "      <td>0.928119</td>\n",
              "    </tr>\n",
              "    <tr>\n",
              "      <th>DailyRate</th>\n",
              "      <td>0.908691</td>\n",
              "    </tr>\n",
              "    <tr>\n",
              "      <th>StockOptionLevel</th>\n",
              "      <td>0.898120</td>\n",
              "    </tr>\n",
              "    <tr>\n",
              "      <th>EducationField_Other</th>\n",
              "      <td>0.870870</td>\n",
              "    </tr>\n",
              "    <tr>\n",
              "      <th>JobLevel_4</th>\n",
              "      <td>0.851102</td>\n",
              "    </tr>\n",
              "    <tr>\n",
              "      <th>WorkLifeBalance</th>\n",
              "      <td>0.808470</td>\n",
              "    </tr>\n",
              "    <tr>\n",
              "      <th>JobRole_Research Scientist</th>\n",
              "      <td>0.791907</td>\n",
              "    </tr>\n",
              "    <tr>\n",
              "      <th>TrainingTimesLastYear</th>\n",
              "      <td>0.786194</td>\n",
              "    </tr>\n",
              "    <tr>\n",
              "      <th>Age</th>\n",
              "      <td>0.759438</td>\n",
              "    </tr>\n",
              "    <tr>\n",
              "      <th>RelationshipSatisfaction</th>\n",
              "      <td>0.731835</td>\n",
              "    </tr>\n",
              "    <tr>\n",
              "      <th>EducationField_Life Sciences</th>\n",
              "      <td>0.726853</td>\n",
              "    </tr>\n",
              "    <tr>\n",
              "      <th>EducationField_Medical</th>\n",
              "      <td>0.701742</td>\n",
              "    </tr>\n",
              "    <tr>\n",
              "      <th>JobRole_Research Director</th>\n",
              "      <td>0.698219</td>\n",
              "    </tr>\n",
              "    <tr>\n",
              "      <th>JobSatisfaction</th>\n",
              "      <td>0.688234</td>\n",
              "    </tr>\n",
              "    <tr>\n",
              "      <th>YearsWithCurrManager</th>\n",
              "      <td>0.681894</td>\n",
              "    </tr>\n",
              "    <tr>\n",
              "      <th>YearsInCurrentRole</th>\n",
              "      <td>0.644703</td>\n",
              "    </tr>\n",
              "    <tr>\n",
              "      <th>EnvironmentSatisfaction_2</th>\n",
              "      <td>0.640844</td>\n",
              "    </tr>\n",
              "    <tr>\n",
              "      <th>JobInvolvement_2</th>\n",
              "      <td>0.615475</td>\n",
              "    </tr>\n",
              "    <tr>\n",
              "      <th>TotalWorkingYears</th>\n",
              "      <td>0.608214</td>\n",
              "    </tr>\n",
              "    <tr>\n",
              "      <th>EnvironmentSatisfaction_3</th>\n",
              "      <td>0.605369</td>\n",
              "    </tr>\n",
              "    <tr>\n",
              "      <th>MonthlyIncome</th>\n",
              "      <td>0.548884</td>\n",
              "    </tr>\n",
              "    <tr>\n",
              "      <th>JobInvolvement_4</th>\n",
              "      <td>0.526637</td>\n",
              "    </tr>\n",
              "    <tr>\n",
              "      <th>EnvironmentSatisfaction_4</th>\n",
              "      <td>0.521205</td>\n",
              "    </tr>\n",
              "    <tr>\n",
              "      <th>JobLevel_2</th>\n",
              "      <td>0.489678</td>\n",
              "    </tr>\n",
              "    <tr>\n",
              "      <th>JobInvolvement_3</th>\n",
              "      <td>0.472151</td>\n",
              "    </tr>\n",
              "  </tbody>\n",
              "</table>\n",
              "</div>\n",
              "      <button class=\"colab-df-convert\" onclick=\"convertToInteractive('df-9ab46a00-fc66-4665-965a-268a14ad057e')\"\n",
              "              title=\"Convert this dataframe to an interactive table.\"\n",
              "              style=\"display:none;\">\n",
              "        \n",
              "  <svg xmlns=\"http://www.w3.org/2000/svg\" height=\"24px\"viewBox=\"0 0 24 24\"\n",
              "       width=\"24px\">\n",
              "    <path d=\"M0 0h24v24H0V0z\" fill=\"none\"/>\n",
              "    <path d=\"M18.56 5.44l.94 2.06.94-2.06 2.06-.94-2.06-.94-.94-2.06-.94 2.06-2.06.94zm-11 1L8.5 8.5l.94-2.06 2.06-.94-2.06-.94L8.5 2.5l-.94 2.06-2.06.94zm10 10l.94 2.06.94-2.06 2.06-.94-2.06-.94-.94-2.06-.94 2.06-2.06.94z\"/><path d=\"M17.41 7.96l-1.37-1.37c-.4-.4-.92-.59-1.43-.59-.52 0-1.04.2-1.43.59L10.3 9.45l-7.72 7.72c-.78.78-.78 2.05 0 2.83L4 21.41c.39.39.9.59 1.41.59.51 0 1.02-.2 1.41-.59l7.78-7.78 2.81-2.81c.8-.78.8-2.07 0-2.86zM5.41 20L4 18.59l7.72-7.72 1.47 1.35L5.41 20z\"/>\n",
              "  </svg>\n",
              "      </button>\n",
              "      \n",
              "  <style>\n",
              "    .colab-df-container {\n",
              "      display:flex;\n",
              "      flex-wrap:wrap;\n",
              "      gap: 12px;\n",
              "    }\n",
              "\n",
              "    .colab-df-convert {\n",
              "      background-color: #E8F0FE;\n",
              "      border: none;\n",
              "      border-radius: 50%;\n",
              "      cursor: pointer;\n",
              "      display: none;\n",
              "      fill: #1967D2;\n",
              "      height: 32px;\n",
              "      padding: 0 0 0 0;\n",
              "      width: 32px;\n",
              "    }\n",
              "\n",
              "    .colab-df-convert:hover {\n",
              "      background-color: #E2EBFA;\n",
              "      box-shadow: 0px 1px 2px rgba(60, 64, 67, 0.3), 0px 1px 3px 1px rgba(60, 64, 67, 0.15);\n",
              "      fill: #174EA6;\n",
              "    }\n",
              "\n",
              "    [theme=dark] .colab-df-convert {\n",
              "      background-color: #3B4455;\n",
              "      fill: #D2E3FC;\n",
              "    }\n",
              "\n",
              "    [theme=dark] .colab-df-convert:hover {\n",
              "      background-color: #434B5C;\n",
              "      box-shadow: 0px 1px 3px 1px rgba(0, 0, 0, 0.15);\n",
              "      filter: drop-shadow(0px 1px 2px rgba(0, 0, 0, 0.3));\n",
              "      fill: #FFFFFF;\n",
              "    }\n",
              "  </style>\n",
              "\n",
              "      <script>\n",
              "        const buttonEl =\n",
              "          document.querySelector('#df-9ab46a00-fc66-4665-965a-268a14ad057e button.colab-df-convert');\n",
              "        buttonEl.style.display =\n",
              "          google.colab.kernel.accessAllowed ? 'block' : 'none';\n",
              "\n",
              "        async function convertToInteractive(key) {\n",
              "          const element = document.querySelector('#df-9ab46a00-fc66-4665-965a-268a14ad057e');\n",
              "          const dataTable =\n",
              "            await google.colab.kernel.invokeFunction('convertToInteractive',\n",
              "                                                     [key], {});\n",
              "          if (!dataTable) return;\n",
              "\n",
              "          const docLinkHtml = 'Like what you see? Visit the ' +\n",
              "            '<a target=\"_blank\" href=https://colab.research.google.com/notebooks/data_table.ipynb>data table notebook</a>'\n",
              "            + ' to learn more about interactive tables.';\n",
              "          element.innerHTML = '';\n",
              "          dataTable['output_type'] = 'display_data';\n",
              "          await google.colab.output.renderOutput(dataTable, element);\n",
              "          const docLink = document.createElement('div');\n",
              "          docLink.innerHTML = docLinkHtml;\n",
              "          element.appendChild(docLink);\n",
              "        }\n",
              "      </script>\n",
              "    </div>\n",
              "  </div>\n",
              "  "
            ]
          },
          "metadata": {},
          "execution_count": 26
        }
      ]
    },
    {
      "cell_type": "markdown",
      "metadata": {
        "id": "8f068e40"
      },
      "source": [
        "### Problem 4. Meaning of Coefficients\n",
        "EXAMPLE: The odds of an employee working overtime to attrite are **2.6 times** the odds of one who is not, probably due to the fact that working overtime is not sustainable for an extended duration for any employee, and may lead to burnout and job dissatisfaction.\n",
        "     \n"
      ],
      "id": "8f068e40"
    },
    {
      "cell_type": "markdown",
      "metadata": {
        "id": "991566fe"
      },
      "source": [
        "**Precision-Recall Curve for logistic regression**"
      ],
      "id": "991566fe"
    },
    {
      "cell_type": "code",
      "metadata": {
        "id": "9ee22ec1",
        "colab": {
          "base_uri": "https://localhost:8080/",
          "height": 446
        },
        "outputId": "e6773648-5698-40e0-b1ba-4b20c6d57415"
      },
      "source": [
        "y_scores_lg=lg.predict_proba(x_train) #predict_proba gives the probability of each observation belonging to each class\n",
        "\n",
        "\n",
        "precisions_lg, recalls_lg, thresholds_lg = precision_recall_curve(y_train, y_scores_lg[:,1])\n",
        "\n",
        "#Plot values of precisions, recalls, and thresholds\n",
        "plt.figure(figsize=(10,7))\n",
        "plt.plot(thresholds_lg, precisions_lg[:-1], 'b--', label='precision')\n",
        "plt.plot(thresholds_lg, recalls_lg[:-1], 'g--', label = 'recall')\n",
        "plt.xlabel('Threshold')\n",
        "plt.legend(loc='upper left')\n",
        "plt.ylim([0,1])\n",
        "plt.show()"
      ],
      "id": "9ee22ec1",
      "execution_count": 27,
      "outputs": [
        {
          "output_type": "display_data",
          "data": {
            "text/plain": [
              "<Figure size 720x504 with 1 Axes>"
            ],
            "image/png": "[encoded data removed]"
          },
          "metadata": {
            "needs_background": "light"
          }
        }
      ]
    },
    {
      "cell_type": "markdown",
      "metadata": {
        "id": "da12cf85"
      },
      "source": [
        "**Observation:**\n",
        "- We can see that precision and recall are balanced for a threshold of about ~**0.35**.\n",
        "\n",
        "**Let's find out the performance of the model at this threshold**"
      ],
      "id": "da12cf85"
    },
    {
      "cell_type": "code",
      "metadata": {
        "id": "5611de61",
        "colab": {
          "base_uri": "https://localhost:8080/",
          "height": 492
        },
        "outputId": "986639ba-5c50-46e1-cdd5-f42a2272e885"
      },
      "source": [
        "optimal_threshold1=.35\n",
        "y_pred_train = lg.predict_proba(x_train)\n",
        "metrics_score(y_train, y_pred_train[:,1]>optimal_threshold1)"
      ],
      "id": "5611de61",
      "execution_count": 28,
      "outputs": [
        {
          "output_type": "stream",
          "name": "stdout",
          "text": [
            "              precision    recall  f1-score   support\n",
            "\n",
            "           0       0.93      0.93      0.93      1726\n",
            "           1       0.65      0.64      0.64       332\n",
            "\n",
            "    accuracy                           0.89      2058\n",
            "   macro avg       0.79      0.79      0.79      2058\n",
            "weighted avg       0.89      0.89      0.89      2058\n",
            "\n"
          ]
        },
        {
          "output_type": "display_data",
          "data": {
            "text/plain": [
              "<Figure size 576x360 with 2 Axes>"
            ],
            "image/png": "[encoded data removed]"
          },
          "metadata": {
            "needs_background": "light"
          }
        }
      ]
    },
    {
      "cell_type": "markdown",
      "metadata": {
        "id": "e048d817"
      },
      "source": [
        "- **The model performance has improved. The recall has increased significantly for class 1.**\n",
        "- Let's check the performance on the test data."
      ],
      "id": "e048d817"
    },
    {
      "cell_type": "code",
      "metadata": {
        "id": "914fc850",
        "colab": {
          "base_uri": "https://localhost:8080/",
          "height": 490
        },
        "outputId": "c748d1f4-4756-4d01-d01f-a0c60f057367"
      },
      "source": [
        "optimal_threshold1=.35\n",
        "y_pred_test = lg.predict_proba(x_test)\n",
        "metrics_score(y_test, y_pred_test[:,1]>optimal_threshold1)"
      ],
      "id": "914fc850",
      "execution_count": 29,
      "outputs": [
        {
          "output_type": "stream",
          "name": "stdout",
          "text": [
            "              precision    recall  f1-score   support\n",
            "\n",
            "           0       0.93      0.93      0.93       740\n",
            "           1       0.62      0.63      0.63       142\n",
            "\n",
            "    accuracy                           0.88       882\n",
            "   macro avg       0.78      0.78      0.78       882\n",
            "weighted avg       0.88      0.88      0.88       882\n",
            "\n"
          ]
        },
        {
          "output_type": "display_data",
          "data": {
            "text/plain": [
              "<Figure size 576x360 with 2 Axes>"
            ],
            "image/png": "[encoded data removed]"
          },
          "metadata": {
            "needs_background": "light"
          }
        }
      ]
    },
    {
      "cell_type": "markdown",
      "source": [
        "Similary,  performance also improves for the test data. "
      ],
      "metadata": {
        "id": "Wj3ZKg_v3kg6"
      },
      "id": "Wj3ZKg_v3kg6"
    },
    {
      "cell_type": "code",
      "source": [],
      "metadata": {
        "id": "PzDiwJYsMIng"
      },
      "id": "PzDiwJYsMIng",
      "execution_count": null,
      "outputs": []
    }
  ]
}